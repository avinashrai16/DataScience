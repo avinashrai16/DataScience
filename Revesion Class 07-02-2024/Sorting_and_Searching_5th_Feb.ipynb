{
  "nbformat": 4,
  "nbformat_minor": 0,
  "metadata": {
    "colab": {
      "provenance": [],
      "authorship_tag": "ABX9TyOGbpzyHHAEOd/i0P3LNe6O"
    },
    "kernelspec": {
      "name": "python3",
      "display_name": "Python 3"
    },
    "language_info": {
      "name": "python"
    }
  },
  "cells": [
    {
      "cell_type": "code",
      "execution_count": null,
      "metadata": {
        "colab": {
          "base_uri": "https://localhost:8080/"
        },
        "id": "5Be_Xp0a_C8-",
        "outputId": "06f0d51e-e9ca-4cd5-98af-b14317f56cc6"
      },
      "outputs": [
        {
          "output_type": "execute_result",
          "data": {
            "text/plain": [
              "[5]"
            ]
          },
          "metadata": {},
          "execution_count": 8
        }
      ],
      "source": [
        "# Problem 1 :\n",
        "# Intersection of Two Sorted Arrays\n",
        "# Write a Python program to find the intersection of two sorted arrays.\n",
        "# Input:\n",
        "A = [1, 3, 5, 7, 9]\n",
        "B = [2, 4, 5, 8]\n",
        "# Output:\n",
        "# Intersection: [5]\n",
        "\n",
        "def intersection_of_arrays(A, B):\n",
        "  intersection = []\n",
        "  i = 0\n",
        "  j = 0\n",
        "\n",
        "  while i < len(A) and j < len(B):\n",
        "    if A[i] == B[j]:\n",
        "      intersection.append(A[i])\n",
        "      i += 1\n",
        "      j += 1\n",
        "    elif A[i] < B[j]:\n",
        "      i += 1\n",
        "    else:\n",
        "      j += 1\n",
        "\n",
        "  return intersection\n",
        "\n",
        "intersection_of_arrays(A, B)\n"
      ]
    },
    {
      "cell_type": "code",
      "source": [
        "# Problem 2 :\n",
        "# Find the Kth Smallest Element\n",
        "# Write a Python function to find the kth smallest element in an unsorted list.\n",
        "# Input:\n",
        "# [12, 3, 1, 7, 8, 20], k = 3\n",
        "# Output:\n",
        "# The 3rd smallest element is 7\n",
        "\n",
        "\n",
        "# step1 : sort the array\n",
        "# step2 : get the element from the postion-1\n",
        "input_arr = [12, 3, 1, 7, 8, 20]\n",
        "position =3\n",
        "def do_sorting(arr):\n",
        "    n = len(arr)\n",
        "    for i in range(n):\n",
        "        min_index = i\n",
        "        for j in range(i + 1, n):\n",
        "            if arr[j] < arr[min_index]:\n",
        "                min_index = j\n",
        "        arr[i], arr[min_index] = arr[min_index], arr[i]\n",
        "\n",
        "def findSmallestElementAtPostion(input_arr,position):\n",
        "  do_sorting(input_arr)\n",
        "  if position <= len(input_arr):\n",
        "    print(f\"The {position}rd smallest element is:{input_arr[position-1]}\")\n",
        "  else:\n",
        "     print(f\"The {position}rd smallest element is not present\")\n",
        "\n",
        "findSmallestElementAtPostion(input_arr,position)\n"
      ],
      "metadata": {
        "colab": {
          "base_uri": "https://localhost:8080/"
        },
        "id": "dl4CR5q5AGTG",
        "outputId": "1f763e00-727e-47a1-a376-cc018bf14528"
      },
      "execution_count": null,
      "outputs": [
        {
          "output_type": "stream",
          "name": "stdout",
          "text": [
            "The 3rd smallest element is:7\n"
          ]
        }
      ]
    },
    {
      "cell_type": "code",
      "source": [
        "# Problem 3 :\n",
        "# Binary Search in a Rotated Sorted Array\n",
        "# Implement a Python program to perform a binary search on a rotated sorted array.\n",
        "# Input:\n",
        "arr = [4, 5, 6, 7, 8, 9, 1, 2, 3]\n",
        "num_to_search = 6\n",
        "# Output:\n",
        "# Element 6 found at index 2\n",
        "\n",
        "def binarySearch(arr, num):\n",
        "  left = 0\n",
        "  right = len(arr) -1\n",
        "  while(left <=right):\n",
        "    #print(left, right)\n",
        "    mid = int(left + (right-left)/2)\n",
        "    #print(\"while\",mid)\n",
        "    if arr[mid] == num:\n",
        "      return mid\n",
        "    elif arr[mid] > num :\n",
        "      right = mid-1\n",
        "    else :\n",
        "      left = mid+1\n",
        "  return -1\n",
        "\n",
        "binarySearch(arr ,num_to_search)"
      ],
      "metadata": {
        "colab": {
          "base_uri": "https://localhost:8080/"
        },
        "id": "fG0XG_C5LMWj",
        "outputId": "8ba8f9ef-5aa1-4ada-c5cc-be80864880bc"
      },
      "execution_count": null,
      "outputs": [
        {
          "output_type": "execute_result",
          "data": {
            "text/plain": [
              "2"
            ]
          },
          "metadata": {},
          "execution_count": 7
        }
      ]
    },
    {
      "cell_type": "code",
      "source": [
        "#from re import M\n",
        "# Problem 4 :\n",
        "# Searching in a Matrix\n",
        "# Write a Python program that searches for a given element in a 2D matrix and returns its position.\n",
        "#Input:\n",
        "Matrix = [\n",
        "    [1, 3, 5],\n",
        "    [7, 9, 11],\n",
        "    [13, 15, 17]\n",
        "]\n",
        "\n",
        "Element = 11\n",
        "# Output:\n",
        "# Element 11 found at position (1, 2)\n",
        "\n",
        "def search(arr, element):\n",
        "  left_index=0\n",
        "  right_index=len(arr)-1\n",
        "  # print(left_index,mid,right_index)\n",
        "  while left_index <= right_index:\n",
        "    mid = int(left_index + (right_index-left_index)/2)\n",
        "    if arr[mid] == element:\n",
        "      return mid\n",
        "    elif arr[mid] > element:\n",
        "      right_index = mid-1\n",
        "    else:\n",
        "      left_index = mid+1\n",
        "  return -1\n",
        "\n",
        "def serach_in_matrix(Matrix,Element):\n",
        "  position = []\n",
        "  for row in range(len(Matrix)):\n",
        "    position.append(row)\n",
        "    index = search(Matrix[row], Element)\n",
        "    position.append(index)\n",
        "    if index == -1 :\n",
        "      position.clear()\n",
        "    if len(position) != 0:\n",
        "      print(f\"element found at {position}\")\n",
        "      break\n",
        "\n",
        "serach_in_matrix(Matrix,Element)\n",
        "\n",
        "\n",
        "def search_matrix(matrix, target):\n",
        "    if not matrix:\n",
        "        return None\n",
        "\n",
        "    rows = len(matrix)\n",
        "    cols = len(matrix[0])\n",
        "\n",
        "    # Start from the top-right corner\n",
        "    row = 0\n",
        "    col = cols - 1\n",
        "\n",
        "    while row < rows and col >= 0:\n",
        "        if matrix[row][col] == target:\n",
        "            return row, col\n",
        "        elif matrix[row][col] < target:\n",
        "            row += 1\n",
        "        else:\n",
        "            col -= 1\n",
        "\n",
        "    # If the element is not found\n",
        "    return None\n",
        "\n",
        "Matrix = [\n",
        "    [1, 3, 5],\n",
        "    [7, 9, 11],\n",
        "    [13, 15, 17]\n",
        "]\n",
        "\n",
        "Element = 11\n",
        "\n",
        "position = search_matrix(Matrix, Element)\n",
        "if position:\n",
        "    print(f\"Element {Element} found at position: {position}\")\n",
        "else:\n",
        "    print(f\"Element {Element} not found in the matrix.\")\n",
        "\n"
      ],
      "metadata": {
        "colab": {
          "base_uri": "https://localhost:8080/"
        },
        "id": "h4q0CUoM97PS",
        "outputId": "93732dd6-7846-4acf-c236-727a897fe592"
      },
      "execution_count": null,
      "outputs": [
        {
          "output_type": "stream",
          "name": "stdout",
          "text": [
            "element found at [1, 2]\n"
          ]
        }
      ]
    },
    {
      "cell_type": "code",
      "source": [
        "# Problem 5 :\n",
        "# Sorting Strings by Length\n",
        "# Write a Python program that takes a list of strings and sorts them based on their length.\n",
        "# Input:\n",
        "# ['apple', 'banana', 'kiwi', 'orange', 'grape']\n",
        "# Output:\n",
        "# ['kiwi', 'grape', 'apple', 'banana', 'orange']\n",
        "arr = ['apple', 'banana', 'kiwi', 'orange', 'grape']\n",
        "\n",
        "def lenght_sorting(arr):\n",
        "  n = len(arr)\n",
        "  for i in range(n):\n",
        "    min_index = i\n",
        "    for j in range(i+1,n):\n",
        "      if len(arr[j]) < len(arr[min_index]):\n",
        "        min_index = j\n",
        "    arr[i], arr[min_index] = arr[min_index], arr[i]\n",
        "\n",
        "\n",
        "print(f\"before sorting:{arr}\")\n",
        "lenght_sorting(arr)\n",
        "print(f\"after sorting:{arr}\")\n",
        "\n"
      ],
      "metadata": {
        "id": "F4yL2X0DHg_D",
        "colab": {
          "base_uri": "https://localhost:8080/"
        },
        "outputId": "f03f1e29-d663-4f2e-d8b2-673857f44442"
      },
      "execution_count": null,
      "outputs": [
        {
          "output_type": "stream",
          "name": "stdout",
          "text": [
            "before sorting:['apple', 'banana', 'kiwi', 'orange', 'grape']\n",
            "after sorting:['kiwi', 'apple', 'grape', 'orange', 'banana']\n"
          ]
        }
      ]
    },
    {
      "cell_type": "code",
      "source": [
        "# Problem 9 :\n",
        "# Implement a Python function to find a peak element in an array. A peak element is an element that is greater\n",
        "# than or equal to its neighbors.\n",
        "input=[1, 3, 20, 4, 1, 0]\n",
        "# Output:\n",
        "# Peak element is 20\n",
        "\n",
        "# approach 1\n",
        "# for element in range(len(input)-1):\n",
        "#   prev = element-1\n",
        "#   next = element+1\n",
        "#   if prev != -1:\n",
        "#     if input[prev]<=input[element]>=input[next]:\n",
        "#       print(input[element])\n",
        "\n",
        "# approach 2\n",
        "def find_peak_element(nums):\n",
        "    if not nums:\n",
        "        return None\n",
        "    left, right = 0, len(nums) - 1\n",
        "    while left < right:\n",
        "        mid = (left + right) // 2\n",
        "        print(mid)\n",
        "        if nums[mid] > nums[mid + 1]:\n",
        "            right = mid\n",
        "        else:\n",
        "            left = mid + 1\n",
        "    return nums[left]\n",
        "\n",
        "# Test the function\n",
        "input_array = [1, 3, 20, 4, 1, 0]\n",
        "print(\"Peak element is\", find_peak_element(input_array))\n",
        "\n",
        "# A Python program to find a peak element\n",
        "# using divide and conquer\n",
        "\n",
        "# A binary search based function\n",
        "# that returns index of a peak element\n",
        "def findPeak(arr, n):\n",
        "\n",
        "  l = 0\n",
        "  r = n-1\n",
        "\n",
        "  while(l <= r):\n",
        "    # finding mid by binary right shifting.\n",
        "    mid = (l + r) //2\n",
        "    print(mid)\n",
        "    # first case if mid is the answer\n",
        "    if((mid == 0 or arr[mid - 1] <= arr[mid]) and (mid == n - 1 or arr[mid + 1] <= arr[mid])):\n",
        "      return mid\n",
        "\n",
        "    # move the right pointer\n",
        "    if(arr[mid - 1] > arr[mid]):\n",
        "      r = mid - 1\n",
        "\n",
        "    # move the left pointer\n",
        "    else:\n",
        "      l = mid + 1\n",
        "\n",
        "  return mid\n",
        "\n",
        "\n",
        "# Driver Code\n",
        "arr = [1, 3, 20, 4, 1, 0]\n",
        "n = len(arr)\n",
        "print(f\"Index of a peak point is {arr[findPeak(arr, n)]}\")\n",
        "\n",
        "# This code is contributed by Rajdeep Mallick (rajdeep999)\n",
        "\n"
      ],
      "metadata": {
        "colab": {
          "base_uri": "https://localhost:8080/"
        },
        "id": "QHsjc7BCFHDt",
        "outputId": "a6babafe-f9f7-4651-abe7-862bbf6a3173"
      },
      "execution_count": null,
      "outputs": [
        {
          "output_type": "stream",
          "name": "stdout",
          "text": [
            "2\n",
            "1\n",
            "Peak element is 20\n",
            "2\n",
            "Index of a peak point is 20\n"
          ]
        }
      ]
    },
    {
      "cell_type": "code",
      "source": [
        "# Problem 10 :\n",
        "# Search in a Nearly Sorted Array\n",
        "# Implement a Python program to perform a binary search in a nearly sorted array. In a nearly sorted array, each\n",
        "# element is at most k positions away from its sorted position.\n",
        "# Input:\n",
        "# [2, 1, 3, 4, 6, 5, 7], k = 1\n",
        "# Output:\n",
        "# Element 5 found at index 4\n",
        "\n",
        "\n",
        "def binary_search(arr, target):\n",
        "    low = 0\n",
        "    high = len(arr) - 1\n",
        "\n",
        "    while low <= high:\n",
        "        mid = low + (high - low) // 2\n",
        "\n",
        "        if arr[mid] == target:\n",
        "            return mid\n",
        "        elif arr[mid] < target:\n",
        "            low = mid + 1\n",
        "        else:\n",
        "            high = mid - 1\n",
        "\n",
        "    return -1\n",
        "\n",
        "def search_in_nearly_sorted_array(arr, target):\n",
        "    index = binary_search(arr, target)\n",
        "    if index != -1:\n",
        "        return index\n",
        "    for i in range(len(arr)):\n",
        "        if arr[i] == target:\n",
        "            return i\n",
        "    return -1\n",
        "\n",
        "# Test the program\n",
        "arr = [2, 1, 3, 4, 6, 5, 7]\n",
        "k = 1\n",
        "target = 6\n",
        "print(\"Index of\", target, \":\", search_in_nearly_sorted_array(arr, target))\n"
      ],
      "metadata": {
        "colab": {
          "base_uri": "https://localhost:8080/"
        },
        "id": "JHCOLD-RAyMX",
        "outputId": "c8ae823d-f463-4b84-fe38-81d84d5efd26"
      },
      "execution_count": null,
      "outputs": [
        {
          "output_type": "stream",
          "name": "stdout",
          "text": [
            "Index of 6 : 4\n"
          ]
        }
      ]
    },
    {
      "cell_type": "code",
      "source": [],
      "metadata": {
        "id": "9tzVQJtBC1UB"
      },
      "execution_count": null,
      "outputs": []
    }
  ]
}