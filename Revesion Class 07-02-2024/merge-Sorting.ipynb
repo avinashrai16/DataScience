{
 "cells": [
  {
   "cell_type": "code",
   "execution_count": 1,
   "metadata": {},
   "outputs": [],
   "source": [
    "#https://colab.research.google.com/drive/1T8Fk_ixA5F2t9eO56IQ7JAoqx6ZCTB0Y?usp=sharing"
   ]
  },
  {
   "cell_type": "code",
   "execution_count": 4,
   "metadata": {},
   "outputs": [],
   "source": [
    "# Time complexity O(nlogn)\n",
    "\n",
    "def mergeSort(arr):  # this fn sorts the arr passed as argument\n",
    "  \n",
    "  if len(arr)<=1:\n",
    "    return\n",
    "  \n",
    "  # Divide into two parts\n",
    "  mid = len(arr)//2\n",
    "\n",
    "  #Left half of the arr\n",
    "  left = arr[:mid]\n",
    "\n",
    "  #Right half of the arr\n",
    "  right = arr[mid:]\n",
    "\n",
    "  #sort the left part\n",
    "  mergeSort(left) # Time complexity O(logn)\n",
    "\n",
    "  #sort the right part\n",
    "  mergeSort(right) # Time complexity O(logn)\n",
    "\n",
    "  #logic to merge both individually sorted left and right\n",
    "  merge(left, right, arr ) # Time complexity O(n)\n",
    "\n",
    "\n",
    "def merge(left, right, arr):\n",
    "  i=0 #index of left array\n",
    "  j=0 #index of right array\n",
    "  k=0 # index of the result array\n",
    "\n",
    "  while i<len(left) and j<len(right):\n",
    "    if(left[i]<= right[j]):\n",
    "      arr[k] = left[i]\n",
    "      i +=1\n",
    "    else :\n",
    "      arr[k] = right[j]\n",
    "      j+=1\n",
    "    k +=1\n",
    "\n",
    "  #Check if any element is left in left array\n",
    "  while i < len(left):\n",
    "    arr[k] = left[i]\n",
    "    i +=1\n",
    "    k +=1\n",
    "  #Check if any element is left in right array\n",
    "  while j < len(right):\n",
    "    arr[k] = right[j]\n",
    "    j +=1\n",
    "    k +=1"
   ]
  },
  {
   "cell_type": "code",
   "execution_count": 5,
   "metadata": {},
   "outputs": [
    {
     "name": "stdout",
     "output_type": "stream",
     "text": [
      "[5, 6, 7, 11, 12, 13]\n"
     ]
    }
   ],
   "source": [
    "arr = [12,11,13,5,6,7]\n",
    "mergeSort(arr)\n",
    "print(arr)\n"
   ]
  },
  {
   "cell_type": "code",
   "execution_count": null,
   "metadata": {},
   "outputs": [],
   "source": []
  }
 ],
 "metadata": {
  "kernelspec": {
   "display_name": "Python 3",
   "language": "python",
   "name": "python3"
  },
  "language_info": {
   "codemirror_mode": {
    "name": "ipython",
    "version": 3
   },
   "file_extension": ".py",
   "mimetype": "text/x-python",
   "name": "python",
   "nbconvert_exporter": "python",
   "pygments_lexer": "ipython3",
   "version": "3.11.7"
  }
 },
 "nbformat": 4,
 "nbformat_minor": 2
}
