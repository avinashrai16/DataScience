{
 "cells": [
  {
   "cell_type": "code",
   "execution_count": null,
   "metadata": {},
   "outputs": [],
   "source": [
    "#https://colab.research.google.com/drive/1T8Fk_ixA5F2t9eO56IQ7JAoqx6ZCTB0Y?usp=sharing#scrollTo=yiYG7Y4nFFEo"
   ]
  },
  {
   "cell_type": "code",
   "execution_count": null,
   "metadata": {},
   "outputs": [],
   "source": [
    "# time complexity of quick sort in worst case will be O(n2) in case of reverse sorted array the worst case will happen\n",
    "# avg case the time complexity will be O(logn)\n",
    "# pivot element needs to be identified and left of pivot should be smaller than pivot and right side should be greater"
   ]
  },
  {
   "cell_type": "code",
   "execution_count": 2,
   "metadata": {},
   "outputs": [],
   "source": [
    "def quickSort(arr, low, high): # do the sorting of the elements falling between low (start index) and high (end index)\n",
    "\n",
    "    # base condition\n",
    "    if low>=high:\n",
    "        return\n",
    "    \n",
    "    # find the pivot point and rearrange the array around it ,left all small and right all big\n",
    "    pi = partition(arr, low, high)\n",
    "\n",
    "    # left of pi(pivot index) will be small\n",
    "    # right of pi(pivot index) will be big\n",
    "\n",
    "    # sort the left part\n",
    "    quickSort(arr, low, pi-1) \n",
    "\n",
    "    # sort the right part\n",
    "    quickSort(arr, pi+1, high)\n",
    "\n",
    "\n",
    "def partition(arr, low, high):\n",
    "    # we choose right most element as the pivot element\n",
    "    pivot = arr[high]\n",
    "\n",
    "    # traverse though the entire array\n",
    "    # compare the elements with the pivot element\n",
    "    i = low-1 # i indicate the available index for the smaller elements than pivot\n",
    "    for j in range(low, high):\n",
    "        if arr[j]<= pivot:\n",
    "            #We need to set it in the left part of the array\n",
    "            i = i+1 # position where arr[j] should be\n",
    "\n",
    "            #swap arr[j] and i index elements\n",
    "            arr[i],arr[j] = arr[j],arr[i]\n",
    "    #Swap the pivot element with the next greater element of i\n",
    "    arr[i+1],arr[high] = arr[high],arr[i+1]\n",
    "\n",
    "    return i+1\n",
    "\n"
   ]
  },
  {
   "cell_type": "code",
   "execution_count": 3,
   "metadata": {},
   "outputs": [
    {
     "name": "stdout",
     "output_type": "stream",
     "text": [
      "[5, 6, 7, 11, 12, 13]\n"
     ]
    }
   ],
   "source": [
    "l1 = [12,11,13,5,6,7]\n",
    "quickSort(l1,0,len(l1)-1)\n",
    "print(l1)"
   ]
  },
  {
   "cell_type": "code",
   "execution_count": null,
   "metadata": {},
   "outputs": [],
   "source": []
  }
 ],
 "metadata": {
  "kernelspec": {
   "display_name": "Python 3",
   "language": "python",
   "name": "python3"
  },
  "language_info": {
   "codemirror_mode": {
    "name": "ipython",
    "version": 3
   },
   "file_extension": ".py",
   "mimetype": "text/x-python",
   "name": "python",
   "nbconvert_exporter": "python",
   "pygments_lexer": "ipython3",
   "version": "3.11.7"
  }
 },
 "nbformat": 4,
 "nbformat_minor": 2
}
