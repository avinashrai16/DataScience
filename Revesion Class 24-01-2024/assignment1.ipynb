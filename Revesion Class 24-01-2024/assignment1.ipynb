{
 "cells": [
  {
   "cell_type": "code",
   "execution_count": null,
   "metadata": {},
   "outputs": [],
   "source": [
    "# https://colab.research.google.com/drive/1huB-o2Hf66FORKB97Xx4DRRparVPZk2k?usp=sharing"
   ]
  },
  {
   "cell_type": "code",
   "execution_count": 1,
   "metadata": {},
   "outputs": [
    {
     "name": "stdout",
     "output_type": "stream",
     "text": [
      "('Vishwa', 1)\n",
      "('Mohan', 2)\n",
      "('Hello', 3)\n"
     ]
    }
   ],
   "source": [
    "a = [\"Vishwa\", \"Mohan\", \"Hello\"]\n",
    "b = [1,2,3]\n",
    "res = zip(a,b)\n",
    "\n",
    "for i in res :\n",
    "  print(i)"
   ]
  },
  {
   "cell_type": "code",
   "execution_count": 9,
   "metadata": {},
   "outputs": [],
   "source": [
    "# N Queen Problem\n",
    "# Return True if it's safe to place queen on the board\n",
    "def isSafeToPlaceQueen(board , row , col , n):\n",
    "\n",
    "  # Check in the left side\n",
    "  for i in range(col):\n",
    "    if board[row][i]==1 :\n",
    "      return False\n",
    "\n",
    "  #Check in the upper left diagonal\n",
    "  for i, j in zip(range(row,-1,-1),range(col,-1,-1)):\n",
    "    if board[i][j] ==1:\n",
    "      return False\n",
    "\n",
    "  #Check in the lower left diagonal\n",
    "  for i,j in zip(range(row,n,1 ), range(col, -1,-1)):\n",
    "    if board[i][j]==1:\n",
    "      return False\n",
    "\n",
    "  return True\n",
    "\n",
    "\n",
    "def solveNQ(board,n):\n",
    "\n",
    "  if not solveNQUtil(board,0,n):\n",
    "    print(\"Solution doesn't exist\")\n",
    "    return\n",
    "\n",
    "  printBoard(board,n)\n",
    "\n",
    "# Should return True if we are able to place all the queens\n",
    "def solveNQUtil(board , col , n):\n",
    "  if(col >=n): #Base condition\n",
    "    return True  # Means we have bee able to put queens in all the columns\n",
    "\n",
    "  # Check for all the rows\n",
    "  for row in range(n) :\n",
    "    if isSafeToPlaceQueen(board,row,col, n) :\n",
    "      board[row][col]= 1 #Set the queen\n",
    "\n",
    "      #Recursively try for the next columns\n",
    "      if solveNQUtil(board,col+1,n):\n",
    "        return True\n",
    "      #Back Tracking\n",
    "      board[row][col]= 0 # Queen can't be set here\n",
    "\n",
    "  return False #Won't be able to place the queen\n",
    "\n",
    "\n",
    "def printBoard(board,n):\n",
    "  for i in range(n):\n",
    "    for j in range(n):\n",
    "      if board[i][j]==1 :\n",
    "        print(\"Q\",end=\" \")\n",
    "      else :\n",
    "        print(\".\",end=\" \")\n",
    "    print()"
   ]
  },
  {
   "cell_type": "code",
   "execution_count": 10,
   "metadata": {},
   "outputs": [
    {
     "name": "stdout",
     "output_type": "stream",
     "text": [
      ". . Q . \n",
      "Q . . . \n",
      ". . . Q \n",
      ". Q . . \n"
     ]
    }
   ],
   "source": [
    "board = [[0,0,0,0],\n",
    "         [0,0,0,0],\n",
    "         [0,0,0,0],\n",
    "         [0,0,0,0]\n",
    "         ]\n",
    "solveNQ(board,4)"
   ]
  },
  {
   "cell_type": "code",
   "execution_count": 11,
   "metadata": {},
   "outputs": [
    {
     "name": "stdout",
     "output_type": "stream",
     "text": [
      "Q . . . . . . . \n",
      ". . . . . . Q . \n",
      ". . . . Q . . . \n",
      ". . . . . . . Q \n",
      ". Q . . . . . . \n",
      ". . . Q . . . . \n",
      ". . . . . Q . . \n",
      ". . Q . . . . . \n"
     ]
    }
   ],
   "source": [
    "board8 = [[0,0,0,0,0,0,0,0],\n",
    "          [0,0,0,0,0,0,0,0],\n",
    "          [0,0,0,0,0,0,0,0],\n",
    "          [0,0,0,0,0,0,0,0],\n",
    "          [0,0,0,0,0,0,0,0],\n",
    "          [0,0,0,0,0,0,0,0],\n",
    "          [0,0,0,0,0,0,0,0],\n",
    "          [0,0,0,0,0,0,0,0]\n",
    "          ]\n",
    "solveNQ(board8,8)"
   ]
  },
  {
   "cell_type": "code",
   "execution_count": 12,
   "metadata": {},
   "outputs": [],
   "source": [
    "# problem 9 word break\n",
    "\n",
    "def wordBreak(wordList, word):\n",
    "    if word == \"\":\n",
    "        return True\n",
    "    else:\n",
    "        wordLen = len(word)\n",
    "        for i in range(1, wordLen+1): # need to slice the given word to get the first char\n",
    "            if word[:i] in wordList and wordBreak(wordList, word[i:]): # calling the function in the if condition recursively\n",
    "                return True\n",
    "        return False"
   ]
  },
  {
   "cell_type": "code",
   "execution_count": 15,
   "metadata": {},
   "outputs": [
    {
     "name": "stdout",
     "output_type": "stream",
     "text": [
      "True\n",
      "True\n"
     ]
    }
   ],
   "source": [
    "print(wordBreak([\"leet\",\"code\"], \"leetcode\"))\n",
    "print(wordBreak([\"I\",\"am\", \"sam\", \"sung\", \"love\", \"vishwa\"], \"vishwalovesamsung\"))"
   ]
  },
  {
   "cell_type": "code",
   "execution_count": null,
   "metadata": {},
   "outputs": [],
   "source": []
  }
 ],
 "metadata": {
  "kernelspec": {
   "display_name": "Python 3",
   "language": "python",
   "name": "python3"
  },
  "language_info": {
   "codemirror_mode": {
    "name": "ipython",
    "version": 3
   },
   "file_extension": ".py",
   "mimetype": "text/x-python",
   "name": "python",
   "nbconvert_exporter": "python",
   "pygments_lexer": "ipython3",
   "version": "3.11.7"
  }
 },
 "nbformat": 4,
 "nbformat_minor": 2
}
