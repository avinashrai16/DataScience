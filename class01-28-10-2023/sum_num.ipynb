{
 "cells": [
  {
   "cell_type": "code",
   "execution_count": 11,
   "metadata": {},
   "outputs": [
    {
     "name": "stdout",
     "output_type": "stream",
     "text": [
      "Start time: 2023-10-28 11:01:04.329969\n",
      "4049999955000000\n",
      "End time: 2023-10-28 11:01:09.513883\n"
     ]
    }
   ],
   "source": [
    "from datetime import datetime\n",
    "current_time = datetime.now()\n",
    "print(\"Start time:\", current_time)\n",
    "sum=0\n",
    "for x in range(90000000):\n",
    "    sum = sum+x\n",
    "print(sum)\n",
    "end_time = datetime.now()\n",
    "print(\"End time:\", end_time)"
   ]
  },
  {
   "cell_type": "code",
   "execution_count": 12,
   "metadata": {},
   "outputs": [
    {
     "name": "stdout",
     "output_type": "stream",
     "text": [
      "Start time: 2023-10-28 11:01:21.799731\n",
      "4050000045000000.0\n",
      "End time: 2023-10-28 11:01:21.799731\n"
     ]
    }
   ],
   "source": [
    "from datetime import datetime\n",
    "current_time = datetime.now()\n",
    "print(\"Start time:\", current_time)\n",
    "sum=(90000000*(90000000+1)/2)\n",
    "print(sum)\n",
    "end_time = datetime.now()\n",
    "print(\"End time:\", end_time)"
   ]
  },
  {
   "cell_type": "code",
   "execution_count": null,
   "metadata": {},
   "outputs": [],
   "source": []
  }
 ],
 "metadata": {
  "kernelspec": {
   "display_name": "Python 3",
   "language": "python",
   "name": "python3"
  },
  "language_info": {
   "codemirror_mode": {
    "name": "ipython",
    "version": 3
   },
   "file_extension": ".py",
   "mimetype": "text/x-python",
   "name": "python",
   "nbconvert_exporter": "python",
   "pygments_lexer": "ipython3",
   "version": "3.11.6"
  }
 },
 "nbformat": 4,
 "nbformat_minor": 2
}
