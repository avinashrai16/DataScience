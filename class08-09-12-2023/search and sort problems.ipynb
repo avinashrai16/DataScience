{
 "cells": [
  {
   "cell_type": "markdown",
   "metadata": {},
   "source": [
    "https://colab.research.google.com/drive/1IKG_wJRsVGc16mCW-fBlIwIWDK2UgSAb?usp=sharing\n",
    "\n",
    "Problem 1 : Find the Rotation Count in Rotated Sorted array Input: arr[] = {15, 18, 2, 3, 6, 12} Output: 2 Explanation: Initial array must be {2, 3, 6, 12, 15, 18}. We get the given array after rotating the initial array twice."
   ]
  },
  {
   "cell_type": "code",
   "execution_count": null,
   "metadata": {},
   "outputs": [],
   "source": [
    "# to know the number of rotation check the postion/index of the smallest element, as the given array was sorted one initially \n",
    "# time compexity for below would be O(n)\n",
    "arr = [15, 18, 2, 3, 6, 12] \n",
    "\n",
    "def count_rotation(arr):\n",
    "    min = arr[0]\n",
    "    min_index = 0\n",
    "    for i in range(len(arr)):\n",
    "        if min > arr[i]:\n",
    "            min = arr [i]\n",
    "            min_index = i\n",
    "    return min_index\n",
    "\n",
    "print(f\"number of roration done on the given array is: {count_rotation(arr)}\")"
   ]
  },
  {
   "cell_type": "code",
   "execution_count": null,
   "metadata": {},
   "outputs": [],
   "source": [
    "# Assignment 1 : Solve the same above problem with linear search approach | Tier 2 companies"
   ]
  },
  {
   "cell_type": "code",
   "execution_count": null,
   "metadata": {},
   "outputs": [],
   "source": [
    "# approach 2 for above problem -- linear search \n",
    "# the smallest element will be smaller than the right element and left element apart from this all other will not have the same property:\n",
    "# ex: [15, 18, 2, 3, 6, 12]\n",
    "# in the above example array 2 is smaller than 18 (left element) and 3 (right element)\n",
    "# with this logic loop does not have to go over all the elements and it is more efficient\n",
    "\n",
    "def countRotations(arr):\n",
    "  min_index = 0\n",
    "  n = len(arr)\n",
    "  for i in range(n):\n",
    "    if arr[(i-1+n)%n] > arr[i] < arr[(i+1)%n] :\n",
    "      min_index = i\n",
    "  return min_index\n",
    "\n",
    "print(countRotations([2,3,6,12,15,18]))\n",
    "print(countRotations([3,6,12,15,18,2]))\n",
    "print(countRotations([6,12,15,18,2,3]))\n",
    "print(countRotations([15,18,2,3,6,12]))"
   ]
  },
  {
   "cell_type": "code",
   "execution_count": null,
   "metadata": {},
   "outputs": [],
   "source": [
    "# # Assignment 2: Solve the above problem with Binary Search Approach | FAANG\n",
    "arr = [15, 18, 2, 3, 6, 12] \n",
    "def binary_count_rotation(arr):\n",
    "  left = 0\n",
    "  mid = 0\n",
    "  right = len(arr) -1\n",
    "  while(left <=right):\n",
    "    \n",
    "    mid = int(left + (right-left)/2)\n",
    "    print(left,mid,right)\n",
    "    if arr[left] > arr[mid] < arr[right] :\n",
    "      return mid\n",
    "    elif arr[mid] > arr[right] :\n",
    "      left = mid+1\n",
    "    else:\n",
    "      right = mid-1\n",
    "  return mid\n",
    "\n",
    "print(binary_count_rotation([15,18,2,3,6,12]))#2\n",
    "print(binary_count_rotation([12,15,18,2,3,6]))#3\n",
    "print(binary_count_rotation([6,12,15,18,2,3]))#4\n",
    "print(binary_count_rotation([3,6,12,15,18,2]))#5\n",
    "print(binary_count_rotation([2,3,6,12,15,18]))#0\n"
   ]
  },
  {
   "cell_type": "code",
   "execution_count": null,
   "metadata": {},
   "outputs": [],
   "source": [
    "def countOfRotations1(arr):\n",
    "  start = 0\n",
    "  n = len(arr)\n",
    "  end = n-1\n",
    "\n",
    "  while(start<=end):\n",
    "\n",
    "    mid = int(start+(end-start)/2)\n",
    "\n",
    "    prev = (mid-1+n)%n #ensure the prev index is always correct\n",
    "    next = (mid+1)%n #ensure the next index is always in range\n",
    "\n",
    "    if arr[mid] <arr[prev] and arr[mid]<arr[next]:\n",
    "      return mid\n",
    "    elif arr[mid]<arr[end]:\n",
    "      end = mid-1\n",
    "    else :\n",
    "      start = mid+1\n",
    "\n",
    "print(countOfRotations1([15,18,2,3,6,12]))#2\n",
    "print(countOfRotations1([12,15,18,2,3,6]))#3\n",
    "print(countOfRotations1([6,12,15,18,2,3]))#4\n",
    "print(countOfRotations1([3,6,12,15,18,2]))#5\n",
    "print(countOfRotations1([2,3,6,12,15,18]))#0"
   ]
  },
  {
   "cell_type": "markdown",
   "metadata": {},
   "source": [
    "Problem 2 : Given an array of integers, print the array in such a way that the first element is first maximum and second element is first minimum and so on. Examples : Input : arr[] = {7, 1, 2, 3, 4, 5, 6} Output : 7 1 6 2 5 3 4"
   ]
  },
  {
   "cell_type": "code",
   "execution_count": null,
   "metadata": {},
   "outputs": [],
   "source": [
    "def selection_sort(arr):\n",
    "    n = len(arr)\n",
    "    for i in range(n):\n",
    "        min_index = i\n",
    "        for j in range(i + 1, n):\n",
    "            if arr[j] < arr[min_index]:\n",
    "                min_index = j\n",
    "        arr[i], arr[min_index] = arr[min_index], arr[i]\n",
    "\n",
    "def alternate_sort(arr):\n",
    "    # Step 1: Sort the array in ascending order\n",
    "    selection_sort(arr)\n",
    "\n",
    "    # Step 2: Initialize pointers\n",
    "    start, end = 0, len(arr) - 1\n",
    "\n",
    "    # Step 3: Iterate through the array and print alternately\n",
    "    while start < end:\n",
    "        print(arr[end], arr[start], end=\" \")\n",
    "        start += 1\n",
    "        end -= 1\n",
    "\n",
    "    # If the array has odd length, print the middle element\n",
    "    if start == end:\n",
    "        print(arr[start])\n",
    "\n",
    "# Example usage\n",
    "arr = [7, 1, 2, 3, 4, 5, 6]\n",
    "alternate_sort(arr)\n"
   ]
  },
  {
   "cell_type": "markdown",
   "metadata": {},
   "source": [
    "Problem 3 : Sort an array in wave form Given an unsorted array of integers, sort the array into a wave like array. An array ‘arr[0..n-1]’ is sorted in wave form if arr[0] >= arr[1] <= arr[2] >= arr[3] <= arr[4] >= ….. Examples: Input: arr[] = {10, 5, 6, 3, 2, 20, 100, 80} Output: arr[] = {10, 5, 6, 2, 20, 3, 100, 80} OR {20, 5, 10, 2, 80, 6, 100, 3} OR any other array that is in wave form"
   ]
  },
  {
   "cell_type": "code",
   "execution_count": null,
   "metadata": {},
   "outputs": [],
   "source": [
    "# time complexity : O(n^2) due to sorting of array\n",
    "\n",
    "def selection_sort(arr):\n",
    "    n = len(arr)\n",
    "    for i in range(n):\n",
    "        min_index = i\n",
    "        for j in range(i + 1, n):\n",
    "            if arr[j] < arr[min_index]:\n",
    "                min_index = j\n",
    "        arr[i], arr[min_index] = arr[min_index], arr[i]\n",
    "\n",
    "def sort_in_wave(arr):\n",
    "    # Step 1: Sort the array\n",
    "    selection_sort(arr)\n",
    "\n",
    "    # Step 2: Swap adjacent elements in pairs\n",
    "    for i in range(0, len(arr) - 1, 2):\n",
    "        arr[i], arr[i + 1] = arr[i + 1], arr[i]\n",
    "\n",
    "# Example usage\n",
    "arr = [10, 5, 6, 3, 2, 20, 100, 80]\n",
    "sort_in_wave(arr)\n",
    "\n",
    "print(\"Wave Sorted Array:\", arr)"
   ]
  },
  {
   "cell_type": "code",
   "execution_count": null,
   "metadata": {},
   "outputs": [],
   "source": [
    "# other approach for above problem\n",
    "# time complexity : O(n)\n",
    "def sort_in_wave(arr):\n",
    "    n = len(arr)\n",
    "    # Traverse all even indexed elements\n",
    "    for i in range(0, n, 2):\n",
    "        print(i)\n",
    "        # If the current even element is smaller than its adjacent element\n",
    "        if i > 0 and arr[i] > arr[i - 1]:\n",
    "            #print(\"first if\")\n",
    "            arr[i], arr[i - 1] = arr[i - 1], arr[i]\n",
    "\n",
    "        # If the current even element is smaller than its next adjacent element\n",
    "        if i < n-1 and arr[i] > arr[i + 1]:\n",
    "            #print(\"second if\")\n",
    "            arr[i], arr[i + 1] = arr[i + 1], arr[i]\n",
    "\n",
    "# Example usage\n",
    "arr = [10, 5, 6, 3, 2, 20, 100, 80, 90]\n",
    "sort_in_wave(arr)\n",
    "print(arr)"
   ]
  },
  {
   "cell_type": "code",
   "execution_count": null,
   "metadata": {},
   "outputs": [],
   "source": [
    "def sortInWave(arr):\n",
    "\n",
    "  for i in range(0, len(arr)-1, 2):\n",
    "\n",
    "    #Comparing with left element\n",
    "    if( i>0 and arr[i]>arr[i-1]):\n",
    "      arr[i] , arr[i-1] = arr[i-1],arr[i]\n",
    "\n",
    "    #Compare with the right element\n",
    "    if(i<len(arr)-1 and arr[i] > arr[i+1]):\n",
    "      arr[i],arr[i+1]=arr[i+1],arr[i]\n",
    "\n",
    "arr = [10,90,49,2,3,1,5,23]\n",
    "sortInWave(arr)\n",
    "print(arr)"
   ]
  },
  {
   "cell_type": "markdown",
   "metadata": {},
   "source": [
    "Problem 4 : Merge an array of size n into another array of size m+n in sorted order"
   ]
  },
  {
   "cell_type": "code",
   "execution_count": null,
   "metadata": {},
   "outputs": [],
   "source": [
    "def mergeArrays(arr1,m, arr2,n):\n",
    "  #Size of the arr1 is m+n and it's first m elements are having numbers\n",
    "\n",
    "  i= m-1\n",
    "  j= n-1\n",
    "  k= m+n-1\n",
    "\n",
    "  while(i>=0 and j>=0):\n",
    "    if(arr1[i]>arr2[j]):\n",
    "      arr1[k]=arr1[i]\n",
    "      i -=1\n",
    "    else :\n",
    "      arr1[k]=arr2[j]\n",
    "      j -=1\n",
    "    k -=1\n",
    "\n",
    "  while(i>=0):\n",
    "    arr1[k]=arr1[i]\n",
    "    k -= 1\n",
    "    i -= 1\n",
    "\n",
    "  while(j>=0):\n",
    "   arr1[k]=arr2[j]\n",
    "   k -=1\n",
    "   j -=1\n",
    "\n",
    "  print(arr1)\n",
    "\n",
    "arr1 = [2,6,8,-1,-1]\n",
    "\n",
    "print(arr1)\n",
    "\n",
    "arr2 = [1,7]\n",
    "print(arr2)\n",
    "\n",
    "mergeArrays(arr1,3, arr2,2)\n",
    "\n",
    "print(arr1)"
   ]
  },
  {
   "cell_type": "code",
   "execution_count": null,
   "metadata": {},
   "outputs": [],
   "source": [
    "def merge_arrays(arr1, arr2):\n",
    "    # Find the lengths of both arrays\n",
    "    m = len(arr1)-len(arr2)\n",
    "    n = len(arr2)\n",
    "\n",
    "    # Move elements of the larger array to the end\n",
    "    #arr1.extend([0] * n)\n",
    "\n",
    "    # Initialize pointers for both arrays\n",
    "    i = m - 1  # Pointer for arr1\n",
    "    j = n - 1  # Pointer for arr2\n",
    "    k = m + n - 1  # Pointer for the merged array\n",
    "    print (i,j,k)\n",
    "    # Merge elements in sorted order\n",
    "    while i >= 0 and j >= 0:\n",
    "        if arr1[i] > arr2[j]:\n",
    "            arr1[k] = arr1[i]\n",
    "            i -= 1\n",
    "        else:\n",
    "            arr1[k] = arr2[j]\n",
    "            j -= 1\n",
    "        k -= 1\n",
    "    print (i,j,k)\n",
    "    # If there are remaining elements in arr2, copy them to arr1\n",
    "    while j >= 0:\n",
    "        arr1[k] = arr2[j]\n",
    "        j -= 1\n",
    "        k -= 1\n",
    "\n",
    "\n",
    "arr1 = [2,6,8,-1,-1] #  total elements m+n\n",
    "arr2 = [1,7]\n",
    "merge_arrays(arr1, arr2)\n",
    "\n",
    "print(\"Merged and Sorted Array:\", arr1)\n"
   ]
  },
  {
   "cell_type": "markdown",
   "metadata": {},
   "source": [
    "Assignment\n",
    "**Problem 5 :** Sort an array containing two types of elements\n",
    "We are given an array of 0s and 1s in random order. Segregate 0s on left side and 1s on right side of the array. Traverse array only once.\n",
    "Examples:\n",
    "Input :  arr[] = [0, 1, 0, 1, 0, 0, 1, 1, 1, 0]\n",
    "Output : arr[] = [0, 0, 0, 0, 0, 1, 1, 1, 1, 1]\n"
   ]
  },
  {
   "cell_type": "code",
   "execution_count": 1,
   "metadata": {},
   "outputs": [
    {
     "name": "stdout",
     "output_type": "stream",
     "text": [
      "Sorted Array: [0, 0, 0, 0, 0, 1, 1, 1, 1, 1]\n"
     ]
    }
   ],
   "source": [
    "# time complexity: O(n)\n",
    "def segregate_zeros_and_ones(arr):\n",
    "    left = 0  # Initialize left pointer\n",
    "    for i in range(len(arr)):\n",
    "        if arr[i] == 0:\n",
    "            # Swap arr[i] with arr[left]\n",
    "            arr[i], arr[left] = arr[left], arr[i]\n",
    "            left += 1\n",
    "\n",
    "arr = [0, 1, 0, 1, 0, 0, 1, 1, 1, 0]\n",
    "segregate_zeros_and_ones(arr)\n",
    "\n",
    "print(\"Sorted Array:\", arr)"
   ]
  },
  {
   "cell_type": "code",
   "execution_count": null,
   "metadata": {},
   "outputs": [],
   "source": [
    "# anotehr approcah for above problem:\n",
    "# time complexity: O(n)\n",
    "def sort_0_1(arr):\n",
    "    left_pointer = 0\n",
    "    right_pointer = len(arr) - 1\n",
    "\n",
    "    while left_pointer < right_pointer:\n",
    "        # Move left pointer to the right until a 1 is encountered\n",
    "        while arr[left_pointer] == 0 and left_pointer < right_pointer:\n",
    "            left_pointer += 1\n",
    "\n",
    "        # Move right pointer to the left until a 0 is encountered\n",
    "        while arr[right_pointer] == 1 and left_pointer < right_pointer:\n",
    "            right_pointer -= 1\n",
    "\n",
    "        # Swap the elements at left and right pointers\n",
    "        if left_pointer < right_pointer:\n",
    "            arr[left_pointer], arr[right_pointer] = arr[right_pointer], arr[left_pointer]\n",
    "            left_pointer += 1\n",
    "            right_pointer -= 1\n",
    "\n",
    "arr = [0, 1, 0, 1, 0, 0, 1, 1, 1, 0]\n",
    "sort_0_1(arr)\n",
    "print(arr)"
   ]
  }
 ],
 "metadata": {
  "kernelspec": {
   "display_name": "Python 3",
   "language": "python",
   "name": "python3"
  },
  "language_info": {
   "codemirror_mode": {
    "name": "ipython",
    "version": 3
   },
   "file_extension": ".py",
   "mimetype": "text/x-python",
   "name": "python",
   "nbconvert_exporter": "python",
   "pygments_lexer": "ipython3",
   "version": "3.11.7"
  }
 },
 "nbformat": 4,
 "nbformat_minor": 2
}
