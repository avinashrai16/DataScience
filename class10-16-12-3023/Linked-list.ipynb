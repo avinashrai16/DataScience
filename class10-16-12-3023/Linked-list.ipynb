{
 "cells": [
  {
   "cell_type": "markdown",
   "metadata": {},
   "source": [
    "https://colab.research.google.com/drive/12loWvoYu7GaXsOIUrk645q9iId9CB_JW?usp=sharing"
   ]
  },
  {
   "cell_type": "code",
   "execution_count": 84,
   "metadata": {},
   "outputs": [],
   "source": [
    "# define the listnode\n",
    "\n",
    "class Node:\n",
    "\n",
    "    def __init__(self, data=None, next=None):\n",
    "        self._data =  data\n",
    "        self._next = next\n",
    "    \n",
    "    # method to set the data value\n",
    "    def setData(self, data):\n",
    "        self._data = data\n",
    "    \n",
    "    # method to get the data value:\n",
    "    def getData(self):\n",
    "        return self._data\n",
    "    \n",
    "    # method to set the next:\n",
    "    def setNext(self, next):\n",
    "        self._next = next\n",
    "    \n",
    "    # method to get the next:\n",
    "    def getNext(self):\n",
    "        return self._next\n",
    "    \n",
    "    @property\n",
    "    def data(self):\n",
    "        return self._data\n",
    "    \n",
    "    @data.setter\n",
    "    def data(self, upadated_data):\n",
    "        self._data = upadated_data\n",
    "    \n",
    "    @property\n",
    "    def next(self):\n",
    "        return self._next\n",
    "    \n",
    "    @next.setter\n",
    "    def next(self, upadated_next):\n",
    "        self._next = upadated_next"
   ]
  },
  {
   "cell_type": "code",
   "execution_count": 85,
   "metadata": {},
   "outputs": [
    {
     "name": "stdout",
     "output_type": "stream",
     "text": [
      "1->2->3\n"
     ]
    }
   ],
   "source": [
    "# create a linked list --> collection of list nodes\n",
    "head = Node(1)\n",
    "node2 = Node(2)\n",
    "node3 = Node(3)\n",
    "# node4 = Node(4)\n",
    "# node5 = Node(5)\n",
    "# node6 = Node(6)\n",
    "\n",
    "# creating the linkage\n",
    "head.setNext(node2)\n",
    "node2.setNext(node3)\n",
    "# node3.setNext(node4)\n",
    "# node4.setNext(node5)\n",
    "# node5.next = node6 # via property decorator\n",
    "# traverse the linked list\n",
    "\n",
    "def traverse_linked_list(head):\n",
    "    temp = head\n",
    "    while (temp):\n",
    "        if(temp.getNext() == None): # for the tail of linked list, without end\n",
    "            print(temp.data) # via property decorator\n",
    "        else:\n",
    "            print(temp.getData(), end=\"->\")\n",
    "        temp = temp.getNext() # go to the next node\n",
    "\n",
    "traverse_linked_list(head)\n"
   ]
  },
  {
   "cell_type": "code",
   "execution_count": 86,
   "metadata": {},
   "outputs": [
    {
     "name": "stdout",
     "output_type": "stream",
     "text": [
      "1->2->3\n"
     ]
    }
   ],
   "source": [
    "# recurssive approach\n",
    "def traverse_linked_list_recur(node):\n",
    "    if node.getNext() == None:\n",
    "        print(node.getData())\n",
    "        return\n",
    "    else:\n",
    "        print(node.getData(), end=\"->\")\n",
    "        node = node.getNext() # go to the next node\n",
    "        traverse_linked_list_recur(node)\n",
    "\n",
    "traverse_linked_list_recur(head)"
   ]
  },
  {
   "cell_type": "code",
   "execution_count": 87,
   "metadata": {},
   "outputs": [
    {
     "data": {
      "text/plain": [
       "3"
      ]
     },
     "execution_count": 87,
     "metadata": {},
     "output_type": "execute_result"
    }
   ],
   "source": [
    "def length_linked_list(head):\n",
    "    temp = head\n",
    "    len = 0\n",
    "    while (temp):\n",
    "        len += 1\n",
    "        temp = temp.getNext() # go to the next node\n",
    "    return len\n",
    "\n",
    "length_linked_list(head)"
   ]
  },
  {
   "cell_type": "code",
   "execution_count": 88,
   "metadata": {},
   "outputs": [
    {
     "name": "stdout",
     "output_type": "stream",
     "text": [
      "3\n"
     ]
    }
   ],
   "source": [
    "# get the length of linked list in recursive manner\n",
    "def length_linked_list_recur(node):\n",
    "    if not node:\n",
    "        return 0\n",
    "    else:\n",
    "        return 1+length_linked_list_recur(node.getNext())\n",
    "\n",
    "length_of_linked_list = length_linked_list_recur(head)\n",
    "print(length_of_linked_list)\n"
   ]
  },
  {
   "cell_type": "code",
   "execution_count": 89,
   "metadata": {},
   "outputs": [
    {
     "name": "stdout",
     "output_type": "stream",
     "text": [
      "1->2->3->4\n"
     ]
    }
   ],
   "source": [
    "def insertNode (head, data, postion):\n",
    "    # if the postion is valid:\n",
    "    if  postion < 0 or postion > length_linked_list(head):\n",
    "        print(\"postion is not valid\")\n",
    "        return head\n",
    "    \n",
    "    # create a new node for data\n",
    "    newNode = Node(data)\n",
    "\n",
    "    if postion == 0 :\n",
    "        # we need to insert at the begining\n",
    "        # we need to update the head\n",
    "        newNode.next = head\n",
    "        head = newNode\n",
    "    else:\n",
    "        # when not in the begining\n",
    "        # we need to jump to the previous node of the given postion\n",
    "        temp = head\n",
    "        i = 0\n",
    "        while i<postion-1: \n",
    "            temp = temp.next\n",
    "            i += 1\n",
    "        \n",
    "        #prev will be one position left of kth position , oder of the below line is importan else we will loose the node\n",
    "        newNode.setNext(temp.getNext())\n",
    "        temp.setNext(newNode)\n",
    "    return head\n",
    "\n",
    "\n",
    "head = insertNode(head,4,3)\n",
    "traverse_linked_list(head)\n",
    "\n",
    "# head = insertNode(head,2.5,3)\n",
    "# traverse_linked_list(head)"
   ]
  },
  {
   "cell_type": "code",
   "execution_count": 94,
   "metadata": {},
   "outputs": [
    {
     "name": "stdout",
     "output_type": "stream",
     "text": [
      "2\n"
     ]
    }
   ],
   "source": [
    "def deleteNode(head, postion):\n",
    "    len = length_linked_list(head)\n",
    "    if  postion < 0 or postion > len:\n",
    "        print(\"postion is not valid\")\n",
    "        return head\n",
    "    if postion == 0 :\n",
    "        # we need to remove node at the begining and point the next nod as head\n",
    "        # we need to update the head\n",
    "        head = head.next\n",
    "    else:\n",
    "        current = head\n",
    "        i = 0\n",
    "        while i<postion-1: \n",
    "            current = current.next\n",
    "            i += 1\n",
    "        node_to_delete = current.next\n",
    "        current.next = node_to_delete.next\n",
    "        node_to_delete = None\n",
    "    return head\n",
    "\n",
    " # Deleting a node at position 2 (0-based index)\n",
    "head = deleteNode(head,0)\n",
    "traverse_linked_list(head)\n",
    "    "
   ]
  },
  {
   "cell_type": "code",
   "execution_count": null,
   "metadata": {},
   "outputs": [],
   "source": []
  }
 ],
 "metadata": {
  "kernelspec": {
   "display_name": "Python 3",
   "language": "python",
   "name": "python3"
  },
  "language_info": {
   "codemirror_mode": {
    "name": "ipython",
    "version": 3
   },
   "file_extension": ".py",
   "mimetype": "text/x-python",
   "name": "python",
   "nbconvert_exporter": "python",
   "pygments_lexer": "ipython3",
   "version": "3.11.7"
  }
 },
 "nbformat": 4,
 "nbformat_minor": 2
}
