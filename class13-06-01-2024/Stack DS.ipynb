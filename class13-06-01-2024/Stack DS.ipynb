{
 "cells": [
  {
   "cell_type": "code",
   "execution_count": 12,
   "metadata": {},
   "outputs": [],
   "source": [
    "# creation of Stack DS using list/arrays\n",
    "\n",
    "class Stack:\n",
    "    def __init__(self, capacity=1):\n",
    "        self.capacity = capacity\n",
    "        self.top = -1 # in the begining the stack will be emplty\n",
    "        self.arr = [None]*capacity\n",
    "        \n",
    "    def isEmpty(self):\n",
    "        return self.top == -1\n",
    "    \n",
    "    def isFull(self):\n",
    "        return self.top == self.capacity-1\n",
    "    \n",
    "    # adding element in the stack\n",
    "    def push(self, data):\n",
    "        if self.isFull():\n",
    "            print(\"stack overflow\")\n",
    "            return\n",
    "        self.top += 1\n",
    "        self.arr[self.top]=data\n",
    "    \n",
    "    # pop element in the stack from top\n",
    "    def pop(self):\n",
    "        if self.isEmpty():\n",
    "            print(\"stack underflow\")\n",
    "            return\n",
    "        data = self.arr[self.top]\n",
    "        self.top -= 1\n",
    "        return data\n",
    "    \n",
    "    # peek the stack\n",
    "    def peek(self):\n",
    "        if self.isEmpty():\n",
    "            print(\"stack underflow\")\n",
    "            return\n",
    "        return self.arr[self.top]\n",
    "    \n",
    "    # traverse\n",
    "    def traverse(self):\n",
    "        if self.isEmpty():\n",
    "            print(\"stack underflow\")\n",
    "            return\n",
    "        for item in self.arr:\n",
    "            print(item)"
   ]
  },
  {
   "cell_type": "code",
   "execution_count": 18,
   "metadata": {},
   "outputs": [
    {
     "name": "stdout",
     "output_type": "stream",
     "text": [
      "peeking before 5\n",
      "poped 5\n",
      "peeking after 4\n"
     ]
    }
   ],
   "source": [
    "stack  = Stack(5)\n",
    "stack.push(1)\n",
    "stack.push(2)\n",
    "stack.push(3)\n",
    "stack.push(4)\n",
    "stack.push(5)\n",
    "# stack.push(6)\n",
    "print(\"peeking before\",stack.peek())\n",
    "print(\"popped\",stack.pop())\n",
    "print(\"peeking after\",stack.peek())\n",
    "# stack.traverse()\n",
    "\n"
   ]
  }
 ],
 "metadata": {
  "kernelspec": {
   "display_name": "Python 3",
   "language": "python",
   "name": "python3"
  },
  "language_info": {
   "codemirror_mode": {
    "name": "ipython",
    "version": 3
   },
   "file_extension": ".py",
   "mimetype": "text/x-python",
   "name": "python",
   "nbconvert_exporter": "python",
   "pygments_lexer": "ipython3",
   "version": "3.11.7"
  }
 },
 "nbformat": 4,
 "nbformat_minor": 2
}
