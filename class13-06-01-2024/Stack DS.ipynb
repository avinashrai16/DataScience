{
 "cells": [
  {
   "cell_type": "code",
   "execution_count": 9,
   "metadata": {},
   "outputs": [],
   "source": [
    "# https://colab.research.google.com/drive/1cqxCngDj7Ab2ii945_c19TtnPC4gyVf-?usp=sharing\n",
    "\n",
    "# creation of Stack DS using list/arrays , the drawback is that the stack created with list is in fixed size not dynamic\n",
    "# hence we use linked list approach for creating linked list\n",
    "\n",
    "class Stack:\n",
    "    def __init__(self, capacity=1):\n",
    "        self.capacity = capacity\n",
    "        self.top = -1 # in the begining the stack will be emplty\n",
    "        self.arr = [None]*capacity\n",
    "        \n",
    "    def isEmpty(self):\n",
    "        return self.top == -1\n",
    "    \n",
    "    def isFull(self):\n",
    "        return self.top == self.capacity-1\n",
    "    \n",
    "    # adding element in the stack\n",
    "    def push(self, data):\n",
    "        if self.isFull():\n",
    "            print(\"stack overflow\")\n",
    "            return\n",
    "        self.top += 1\n",
    "        self.arr[self.top]=data\n",
    "    \n",
    "    # pop element in the stack from top\n",
    "    def pop(self):\n",
    "        if self.isEmpty():\n",
    "            print(\"stack underflow\")\n",
    "            return\n",
    "        data = self.arr[self.top]\n",
    "        self.top -= 1\n",
    "        return data\n",
    "    \n",
    "    # peek the stack\n",
    "    def peek(self):\n",
    "        if self.isEmpty():\n",
    "            print(\"stack underflow\")\n",
    "            return\n",
    "        return self.arr[self.top]\n",
    "    \n",
    "    # traverse\n",
    "    def traverse(self):\n",
    "        if self.isEmpty():\n",
    "            print(\"stack underflow\")\n",
    "            return\n",
    "        # for item in self.arr:\n",
    "        #     print(item, end=\",\")\n",
    "        for i in range(len(self.arr)-1):\n",
    "            print(self.arr[i], end=\",\")\n",
    "        print(self.arr[-1])"
   ]
  },
  {
   "cell_type": "code",
   "execution_count": null,
   "metadata": {},
   "outputs": [],
   "source": [
    "stack  = Stack(5)\n",
    "stack.push(1)\n",
    "stack.push(2)\n",
    "stack.push(3)\n",
    "stack.push(4)\n",
    "stack.push(5)\n",
    "# stack.push(6)\n",
    "# print(\"peeking before\",stack.peek())\n",
    "# print(\"popped\",stack.pop())\n",
    "# print(\"peeking after\",stack.peek())\n",
    "stack.traverse()"
   ]
  },
  {
   "cell_type": "code",
   "execution_count": 52,
   "metadata": {},
   "outputs": [],
   "source": [
    "# creation of Stack DS using linked list\n",
    "\n",
    "class Node:\n",
    "    def __init__(self,data, next = None):\n",
    "        self.data = data\n",
    "        self.next = next"
   ]
  },
  {
   "cell_type": "code",
   "execution_count": 75,
   "metadata": {},
   "outputs": [],
   "source": [
    "class StackLL:\n",
    "    def __init__(self):\n",
    "        self.head = None\n",
    "    \n",
    "    def isEmpty(self):\n",
    "        return self.head == None \n",
    "    \n",
    "    def push(self, data):\n",
    "        node = Node(data)\n",
    "        node.next = self.head\n",
    "        self.head = node # new node will be head after the push of node\n",
    "\n",
    "    def pop(self):\n",
    "        if self.isEmpty():\n",
    "            print(\"stack underflow\")\n",
    "            return\n",
    "        data = self.head.data\n",
    "        self.head = self.head.next\n",
    "        return data\n",
    "    \n",
    "    def peek(self):\n",
    "        if self.isEmpty():\n",
    "            print(\"stack underflow\")\n",
    "            return\n",
    "        return self.head.data\n",
    "    \n",
    "    def len(self):\n",
    "        size = 0\n",
    "        temp = self.head\n",
    "        while temp:\n",
    "            size += 1\n",
    "            temp = temp.next\n",
    "        return size\n",
    "    \n",
    "    def traverse(self):\n",
    "        temp = self.head\n",
    "        while temp.next:\n",
    "            print(temp.data,end=\"->\")\n",
    "            temp = temp.next\n",
    "        print(temp.data) # printing the last element\n",
    "    "
   ]
  },
  {
   "cell_type": "code",
   "execution_count": 59,
   "metadata": {},
   "outputs": [
    {
     "name": "stdout",
     "output_type": "stream",
     "text": [
      "7->6->5\n",
      "6->5\n"
     ]
    }
   ],
   "source": [
    "stack = StackLL()\n",
    "stack.push(5)\n",
    "stack.push(6)\n",
    "stack.push(7)\n",
    "stack.traverse()\n",
    "stack.pop()\n",
    "stack.traverse()"
   ]
  },
  {
   "cell_type": "code",
   "execution_count": 43,
   "metadata": {},
   "outputs": [],
   "source": [
    "# openinig brackets should be pushed in stack , \n",
    "# once we encounter the closing bracket pop the element from stack and match with closing one \n",
    "# if it is matching moving to the next one else it is not balanced \n",
    "# if the stcak is emplty the exp is balanced\n",
    "\n",
    "def areBracketsBalanced(exp):\n",
    "    stack = StackLL()\n",
    "    for c in exp:\n",
    "        if c in [\"(\",\"{\",\"[\"]:\n",
    "            stack.push(c)\n",
    "        else:\n",
    "            if stack.isEmpty():\n",
    "                return False\n",
    "            char = stack.pop()\n",
    "            if char == \"(\" and c != \")\":\n",
    "                return False\n",
    "            elif char == \"[\" and c != \"]\":\n",
    "                return False\n",
    "            elif char == \"{\" and c != \"}\":\n",
    "                return False\n",
    "    return stack.isEmpty()"
   ]
  },
  {
   "cell_type": "code",
   "execution_count": 44,
   "metadata": {},
   "outputs": [
    {
     "name": "stdout",
     "output_type": "stream",
     "text": [
      "True\n"
     ]
    }
   ],
   "source": [
    "print(areBracketsBalanced(\"{[]}\"))"
   ]
  },
  {
   "cell_type": "code",
   "execution_count": 45,
   "metadata": {},
   "outputs": [
    {
     "data": {
      "text/plain": [
       "False"
      ]
     },
     "execution_count": 45,
     "metadata": {},
     "output_type": "execute_result"
    }
   ],
   "source": [
    "areBracketsBalanced(\"{{{[{}]]}}}\")"
   ]
  },
  {
   "cell_type": "code",
   "execution_count": 99,
   "metadata": {},
   "outputs": [
    {
     "name": "stdout",
     "output_type": "stream",
     "text": [
      "7->6->5\n",
      "7->5\n"
     ]
    }
   ],
   "source": [
    "# Assignment Problem :\n",
    "# Delete the middle element of the stack. And you are allowed to use only the push and pop methods of the stack.\n",
    "# you can't manipulate the internal DS used to store the data\n",
    "\n",
    "def deleteMiddle(stack):\n",
    "  items = []\n",
    "  while stack and stack.len()>0:\n",
    "    items.append(stack.pop())\n",
    "  length = len(items)\n",
    "  mid_index = 0\n",
    "  if length % 2 == 0:\n",
    "      mid_index =  length // 2 - 1\n",
    "  else:\n",
    "      mid_index = length // 2\n",
    "  items.remove(items[mid_index])\n",
    "  for x in items[::-1]:\n",
    "      stack.push(x)\n",
    "  \n",
    "  return stack\n",
    "\n",
    "stack = StackLL()\n",
    "stack.push(5)\n",
    "stack.push(6)\n",
    "stack.push(7)\n",
    "stack.traverse()\n",
    "updated_stack = deleteMiddle(stack=stack)\n",
    "updated_stack.traverse()\n"
   ]
  },
  {
   "cell_type": "code",
   "execution_count": 97,
   "metadata": {},
   "outputs": [
    {
     "name": "stdout",
     "output_type": "stream",
     "text": [
      "8->7->6->5\n",
      "middle_index 2\n",
      "temp 8\n",
      "temp 7\n",
      "8->7->5\n"
     ]
    }
   ],
   "source": [
    "def delete_middle_recursive(stack, middle_index):\n",
    "    if middle_index == 0:\n",
    "        stack.pop()\n",
    "        return\n",
    "    temp = stack.pop()\n",
    "    print(\"temp\",temp)\n",
    "    delete_middle_recursive(stack, middle_index - 1)\n",
    "    stack.push(temp)\n",
    "\n",
    "# Delete the middle element\n",
    "stack = StackLL()\n",
    "stack.push(5)\n",
    "stack.push(6)\n",
    "stack.push(7)\n",
    "stack.push(8)\n",
    "stack.traverse()\n",
    "middle_index = stack.len() // 2\n",
    "print(\"middle_index\",middle_index)\n",
    "delete_middle_recursive(stack, middle_index)\n",
    "stack.traverse()"
   ]
  },
  {
   "cell_type": "code",
   "execution_count": null,
   "metadata": {},
   "outputs": [],
   "source": []
  }
 ],
 "metadata": {
  "kernelspec": {
   "display_name": "Python 3",
   "language": "python",
   "name": "python3"
  },
  "language_info": {
   "codemirror_mode": {
    "name": "ipython",
    "version": 3
   },
   "file_extension": ".py",
   "mimetype": "text/x-python",
   "name": "python",
   "nbconvert_exporter": "python",
   "pygments_lexer": "ipython3",
   "version": "3.11.7"
  }
 },
 "nbformat": 4,
 "nbformat_minor": 2
}
