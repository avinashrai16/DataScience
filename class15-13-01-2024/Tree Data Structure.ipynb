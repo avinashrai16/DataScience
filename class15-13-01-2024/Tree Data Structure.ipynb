{
 "cells": [
  {
   "cell_type": "code",
   "execution_count": null,
   "metadata": {},
   "outputs": [],
   "source": [
    "# tree DS:\n",
    "# it is a non linear DS --> Tree and Graph\n",
    "# it represents hierarchical data\n",
    "# use cases -->  Decision trees, DB indexes , make search faster\n",
    "# Binary Tree \n",
    "    # 1. a tree with 0/1/2 child nodes (max 2) is called binary tree \n",
    "    # 2. node : data, left child, right child\n",
    "    # 3. with the help of root node we can traverse to any node , so trees are always represented by root\n",
    "    # 4. depth: distance between node and root and height: distance between node and dippiest node\n",
    "    # 5. height of the tree : height of root node\n",
    "    # 6. depth of the tree : depth of the dippiest node from root\n",
    "    # 7. height of the tree =  depth of the tree \n",
    "    # 8. level :starting from 0 , position \n",
    "    # 9. pre order traversal --> root...>Left sub tree...> right sub tree\n",
    "    # 10. in order traversal --> left sub tree --> root --> right sub tree\n",
    "    # 11. post order traversal -- >left sub tree  --> right sub tree --> root"
   ]
  }
 ],
 "metadata": {
  "language_info": {
   "name": "python"
  }
 },
 "nbformat": 4,
 "nbformat_minor": 2
}
