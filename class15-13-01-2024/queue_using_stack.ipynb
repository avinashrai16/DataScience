{
 "cells": [
  {
   "cell_type": "code",
   "execution_count": 1,
   "metadata": {},
   "outputs": [],
   "source": [
    "class Node :\n",
    "\n",
    "  def __init__(self, data, next=None):\n",
    "    self.data = data\n",
    "    self.next = next\n",
    "\n",
    "  def getData(self):\n",
    "    return self.data\n",
    "\n",
    "  def setData(self, data):\n",
    "    self.data = data\n",
    "\n",
    "  def setNext(self, next):\n",
    "    self.next = next\n",
    "\n",
    "  def getNext(self):\n",
    "    return self.next"
   ]
  },
  {
   "cell_type": "code",
   "execution_count": 2,
   "metadata": {},
   "outputs": [],
   "source": [
    "class StackLL:\n",
    "    def __init__(self):\n",
    "        self.head = None\n",
    "    \n",
    "    def isEmpty(self):\n",
    "        return self.head == None \n",
    "    \n",
    "    def push(self, data):\n",
    "        node = Node(data)\n",
    "        node.next = self.head\n",
    "        self.head = node # new node will be head after the push of node\n",
    "\n",
    "    def pop(self):\n",
    "        if self.isEmpty():\n",
    "            print(\"stack underflow\")\n",
    "            return\n",
    "        data = self.head.data\n",
    "        self.head = self.head.next\n",
    "        return data\n",
    "    \n",
    "    def peek(self):\n",
    "        if self.isEmpty():\n",
    "            print(\"stack underflow\")\n",
    "            return\n",
    "        return self.head.data\n",
    "    \n",
    "    def len(self):\n",
    "        size = 0\n",
    "        temp = self.head\n",
    "        while temp:\n",
    "            size += 1\n",
    "            temp = temp.next\n",
    "        return size\n",
    "    \n",
    "    def traverse(self):\n",
    "        temp = self.head\n",
    "        while temp.next:\n",
    "            print(temp.data,end=\"->\")\n",
    "            temp = temp.next\n",
    "        print(temp.data) # printing the last element"
   ]
  },
  {
   "cell_type": "code",
   "execution_count": 3,
   "metadata": {},
   "outputs": [],
   "source": [
    "class QueueS:\n",
    "    def __init__(self):\n",
    "        self.stack1 = StackLL()\n",
    "        self.stack2 = StackLL()\n",
    "\n",
    "    def isEmpty(self):\n",
    "        return self.stack1.isEmpty()\n",
    "\n",
    "    def enQueue(self, data):\n",
    "        self.stack1.push(data)\n",
    "    \n",
    "    def deQueue(self):\n",
    "        if self.isEmpty():\n",
    "            print(\" Queue underflow error\")\n",
    "            return\n",
    "        data = None\n",
    "        while not self.stack1.isEmpty():\n",
    "            data = self.stack1.pop()\n",
    "            if not self.stack1.isEmpty():\n",
    "                self.stack2.push(data)\n",
    "        self.stack1, self.stack2 = self.stack2, self.stack1\n",
    "        return data\n",
    "    \n",
    "    def traverse(self):\n",
    "        self.stack1.traverse()\n",
    "    "
   ]
  },
  {
   "cell_type": "code",
   "execution_count": 4,
   "metadata": {},
   "outputs": [],
   "source": [
    "queueS = QueueS()"
   ]
  },
  {
   "cell_type": "code",
   "execution_count": 5,
   "metadata": {},
   "outputs": [
    {
     "data": {
      "text/plain": [
       "True"
      ]
     },
     "execution_count": 5,
     "metadata": {},
     "output_type": "execute_result"
    }
   ],
   "source": [
    "queueS.isEmpty()"
   ]
  },
  {
   "cell_type": "code",
   "execution_count": 6,
   "metadata": {},
   "outputs": [],
   "source": [
    "queueS.enQueue(1)\n",
    "queueS.enQueue(2)\n",
    "queueS.enQueue(3)\n",
    "queueS.enQueue(4)\n",
    "queueS.enQueue(5)"
   ]
  },
  {
   "cell_type": "code",
   "execution_count": 7,
   "metadata": {},
   "outputs": [
    {
     "name": "stdout",
     "output_type": "stream",
     "text": [
      "5->4->3->2->1\n"
     ]
    }
   ],
   "source": [
    "queueS.traverse()"
   ]
  },
  {
   "cell_type": "code",
   "execution_count": 8,
   "metadata": {},
   "outputs": [
    {
     "data": {
      "text/plain": [
       "1"
      ]
     },
     "execution_count": 8,
     "metadata": {},
     "output_type": "execute_result"
    }
   ],
   "source": [
    "queueS.deQueue()"
   ]
  },
  {
   "cell_type": "code",
   "execution_count": 9,
   "metadata": {},
   "outputs": [
    {
     "name": "stdout",
     "output_type": "stream",
     "text": [
      "2->3->4->5\n"
     ]
    }
   ],
   "source": [
    "queueS.traverse()"
   ]
  },
  {
   "cell_type": "code",
   "execution_count": 10,
   "metadata": {},
   "outputs": [
    {
     "data": {
      "text/plain": [
       "5"
      ]
     },
     "execution_count": 10,
     "metadata": {},
     "output_type": "execute_result"
    }
   ],
   "source": [
    "queueS.deQueue()"
   ]
  },
  {
   "cell_type": "code",
   "execution_count": 11,
   "metadata": {},
   "outputs": [
    {
     "data": {
      "text/plain": [
       "2"
      ]
     },
     "execution_count": 11,
     "metadata": {},
     "output_type": "execute_result"
    }
   ],
   "source": [
    "queueS.deQueue()"
   ]
  },
  {
   "cell_type": "code",
   "execution_count": null,
   "metadata": {},
   "outputs": [],
   "source": []
  }
 ],
 "metadata": {
  "kernelspec": {
   "display_name": "Python 3",
   "language": "python",
   "name": "python3"
  },
  "language_info": {
   "codemirror_mode": {
    "name": "ipython",
    "version": 3
   },
   "file_extension": ".py",
   "mimetype": "text/x-python",
   "name": "python",
   "nbconvert_exporter": "python",
   "pygments_lexer": "ipython3",
   "version": "3.11.7"
  }
 },
 "nbformat": 4,
 "nbformat_minor": 2
}
