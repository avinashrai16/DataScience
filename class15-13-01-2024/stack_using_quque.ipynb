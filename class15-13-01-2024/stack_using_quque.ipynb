{
 "cells": [
  {
   "cell_type": "code",
   "execution_count": 1,
   "metadata": {},
   "outputs": [],
   "source": [
    "class Node :\n",
    "\n",
    "  def __init__(self, data, next=None):\n",
    "    self.data = data\n",
    "    self.next = next\n",
    "\n",
    "  def getData(self):\n",
    "    return self.data\n",
    "\n",
    "  def setData(self, data):\n",
    "    self.data = data\n",
    "\n",
    "  def setNext(self, next):\n",
    "    self.next = next\n",
    "\n",
    "  def getNext(self):\n",
    "    return self.next"
   ]
  },
  {
   "cell_type": "code",
   "execution_count": 2,
   "metadata": {},
   "outputs": [],
   "source": [
    "class QueueLL:\n",
    "    def __init__(self):\n",
    "        self.head = None\n",
    "        self.tail = None\n",
    "        self.size = 0\n",
    "    def isEmpty(self):\n",
    "        return self.head == None #or self.tail == None\n",
    "    def enQueue(self, data):\n",
    "        node = Node(data)\n",
    "        if self.isEmpty():\n",
    "            self.head = node\n",
    "            self.tail = node\n",
    "        else:\n",
    "            self.tail.next = node\n",
    "            self.tail = self.tail.next\n",
    "        self.size += 1\n",
    "    def deQueue(self):\n",
    "        if self.isEmpty():\n",
    "            print(\"Queue underFlow\")\n",
    "            return\n",
    "        data = self.head.data\n",
    "\n",
    "        # chk if it is the only element\n",
    "        if self.head == self.tail:\n",
    "            self.head = None\n",
    "            self.tail = None # after dequeue the queue will be empty hence reset of head and tail\n",
    "        else:\n",
    "            self.head = self.head.next\n",
    "        self.size -= 1\n",
    "        return data\n",
    "    \n",
    "    def traverse(self):\n",
    "        temp = self.head\n",
    "        while temp:\n",
    "            print(temp.data,end=\"->\")\n",
    "            temp = temp.next\n",
    "        print()"
   ]
  },
  {
   "cell_type": "code",
   "execution_count": 3,
   "metadata": {},
   "outputs": [],
   "source": [
    "# Implement Stack using queue\n",
    "\n",
    "class stackQ:\n",
    "    def __init__(self):\n",
    "        self.q1 = QueueLL()\n",
    "        self.q2 = QueueLL()\n",
    "    \n",
    "    def isEmpty(self):\n",
    "        return self.q1.isEmpty()\n",
    "    \n",
    "    def push(self, data):\n",
    "        self.q1.enQueue(data)\n",
    "    \n",
    "    def pop(self):\n",
    "        if self.isEmpty():\n",
    "            print(\"stack underflow error\")\n",
    "            return\n",
    "        data = None\n",
    "        while not self.q1.isEmpty():\n",
    "            data = self.q1.deQueue()\n",
    "            if not self.q1.isEmpty(): # to avoid insertion of the last element\n",
    "                self.q2.enQueue(data)\n",
    "        self.q1, self.q2 = self.q2,self.q1\n",
    "        return data\n",
    "\n",
    "    def traverse(self):\n",
    "        self.q1.traverse()"
   ]
  },
  {
   "cell_type": "code",
   "execution_count": 5,
   "metadata": {},
   "outputs": [
    {
     "name": "stdout",
     "output_type": "stream",
     "text": [
      "5->9->13->22->\n",
      "22\n",
      "5->9->13->\n",
      "13\n",
      "5->9->\n"
     ]
    }
   ],
   "source": [
    "s = stackQ()\n",
    "s.push(5)\n",
    "s.push(9)\n",
    "s.push(13)\n",
    "s.push(22)\n",
    "s.traverse()\n",
    "print(s.pop())\n",
    "s.traverse()\n",
    "print(s.pop())\n",
    "s.traverse()"
   ]
  },
  {
   "cell_type": "code",
   "execution_count": null,
   "metadata": {},
   "outputs": [],
   "source": []
  }
 ],
 "metadata": {
  "kernelspec": {
   "display_name": "Python 3",
   "language": "python",
   "name": "python3"
  },
  "language_info": {
   "codemirror_mode": {
    "name": "ipython",
    "version": 3
   },
   "file_extension": ".py",
   "mimetype": "text/x-python",
   "name": "python",
   "nbconvert_exporter": "python",
   "pygments_lexer": "ipython3",
   "version": "3.11.7"
  }
 },
 "nbformat": 4,
 "nbformat_minor": 2
}
