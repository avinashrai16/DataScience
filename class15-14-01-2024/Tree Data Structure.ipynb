{
 "cells": [
  {
   "cell_type": "code",
   "execution_count": 2,
   "metadata": {},
   "outputs": [],
   "source": [
    "# tree DS:\n",
    "# it is a non linear DS --> Tree and Graph\n",
    "# it represents hierarchical data\n",
    "# use cases -->  Decision trees, DB indexes , make search faster\n",
    "# Binary Tree \n",
    "    # 1. a tree with 0/1/2 child nodes (max 2) is called binary tree \n",
    "    # 2. node : data, left child, right child\n",
    "    # 3. with the help of root node we can traverse to any node , so trees are always represented by root\n",
    "    # 4. depth: distance between node and root and height: distance between node and dippiest node\n",
    "    # 5. height of the tree : height of root node\n",
    "    # 6. depth of the tree : depth of the dippiest node from root\n",
    "    # 7. height of the tree =  depth of the tree \n",
    "    # 8. level :starting from 0 , position \n",
    "    # 9. pre order traversal --> root...>Left sub tree...> right sub tree\n",
    "    # 10. in order traversal --> left sub tree --> root --> right sub tree\n",
    "    # 11. post order traversal -- >left sub tree  --> right sub tree --> root"
   ]
  },
  {
   "cell_type": "code",
   "execution_count": 4,
   "metadata": {},
   "outputs": [],
   "source": [
    "# implementation of tree\n",
    "# step1. Tree node\n",
    "\n",
    "class TreeNode:\n",
    "    def __init__(self, data):\n",
    "        self.data = data\n",
    "        self.left = None # represents left child \n",
    "        self.right = None # represents right child\n",
    "    \n",
    "    # getter and setter methods\n",
    "    def setData(self, data):\n",
    "        self.data = data\n",
    "    \n",
    "    def getData(self):\n",
    "        return self.data\n",
    "    \n",
    "    def setLeft(self, node):\n",
    "        self.left = node\n",
    "    \n",
    "    def getLeft(self):\n",
    "        return self.left\n",
    "    \n",
    "    def setRight(self, node):\n",
    "        self.right = node\n",
    "    \n",
    "    def getRight(self):\n",
    "        return self.right"
   ]
  },
  {
   "cell_type": "code",
   "execution_count": 6,
   "metadata": {},
   "outputs": [],
   "source": [
    "# below is the simple tree "
   ]
  },
  {
   "cell_type": "markdown",
   "metadata": {},
   "source": [
    "<img src=\"tree.png\" width=\"200\" height=\"100\">"
   ]
  },
  {
   "cell_type": "code",
   "execution_count": 7,
   "metadata": {},
   "outputs": [],
   "source": [
    "# create a root node\n",
    "root = TreeNode(1)\n",
    "\n",
    "#left subtree\n",
    "leftST = TreeNode(2)\n",
    "leftST.setLeft(TreeNode(5))\n",
    "leftST.setRight(TreeNode(6))\n",
    "# add the LST to root\n",
    "root.setLeft(leftST)\n",
    "\n",
    "# right subtree\n",
    "rightST = TreeNode(3)\n",
    "rightST.setLeft(TreeNode(8))\n",
    "rightST.setRight(TreeNode(7))\n",
    "# add the RST to root\n",
    "root.setRight(rightST)"
   ]
  },
  {
   "cell_type": "markdown",
   "metadata": {},
   "source": [
    "<img src=\"tree.png\" width=\"200\" height=\"100\">"
   ]
  },
  {
   "cell_type": "code",
   "execution_count": 8,
   "metadata": {},
   "outputs": [],
   "source": [
    "# Pre order traversal : root--> left subtree-->right subtree\n",
    "\n",
    "def preOrderTraversal(root):\n",
    "    # base condition \n",
    "    if not root:\n",
    "        return\n",
    "    \n",
    "    print(root.getData(),end=\"->\")\n",
    "    #preOrder traversal of left subtree\n",
    "    preOrderTraversal(root.getLeft())\n",
    "    #preOrder traversal of right subtree\n",
    "    preOrderTraversal(root.getRight())"
   ]
  },
  {
   "cell_type": "code",
   "execution_count": 9,
   "metadata": {},
   "outputs": [
    {
     "name": "stdout",
     "output_type": "stream",
     "text": [
      "1->2->5->6->3->8->7->"
     ]
    }
   ],
   "source": [
    "preOrderTraversal(root)"
   ]
  },
  {
   "cell_type": "markdown",
   "metadata": {},
   "source": [
    "<img src=\"tree.png\" width=\"200\" height=\"100\">"
   ]
  },
  {
   "cell_type": "code",
   "execution_count": 10,
   "metadata": {},
   "outputs": [],
   "source": [
    "# in order traversal : left subtree-->root-->right subtree \n",
    "\n",
    "def inOrderTraversal(root):\n",
    "    # base condition:\n",
    "    if not root:\n",
    "        return\n",
    "    \n",
    "    # traverse left subtree\n",
    "    inOrderTraversal(root.getLeft())\n",
    "\n",
    "    #print the root\n",
    "    print(root.getData(),end=\"->\")\n",
    "\n",
    "    # print the right subtree\n",
    "    inOrderTraversal(root.getRight())"
   ]
  },
  {
   "cell_type": "code",
   "execution_count": 11,
   "metadata": {},
   "outputs": [
    {
     "name": "stdout",
     "output_type": "stream",
     "text": [
      "5->2->6->1->8->3->7->"
     ]
    }
   ],
   "source": [
    "inOrderTraversal(root)"
   ]
  },
  {
   "cell_type": "markdown",
   "metadata": {},
   "source": [
    "<img src=\"tree.png\" width=\"200\" height=\"100\">"
   ]
  },
  {
   "cell_type": "code",
   "execution_count": 12,
   "metadata": {},
   "outputs": [],
   "source": [
    "# post order traversal : left subtree-->right subtree-->root\n",
    "\n",
    "def postOrderTraversal(root):\n",
    "    # base condition:\n",
    "    if not root:\n",
    "        return\n",
    "    \n",
    "    # traverse left subtree\n",
    "    postOrderTraversal(root.getLeft())\n",
    "\n",
    "    # print the right subtree\n",
    "    postOrderTraversal(root.getRight())\n",
    "\n",
    "    #print the root\n",
    "    print(root.getData(),end=\"->\")"
   ]
  },
  {
   "cell_type": "code",
   "execution_count": 13,
   "metadata": {},
   "outputs": [
    {
     "name": "stdout",
     "output_type": "stream",
     "text": [
      "5->6->2->8->7->3->1->"
     ]
    }
   ],
   "source": [
    "postOrderTraversal(root)"
   ]
  },
  {
   "cell_type": "markdown",
   "metadata": {},
   "source": [
    "<img src=\"tree.png\" width=\"250\" height=\"100\">"
   ]
  },
  {
   "cell_type": "code",
   "execution_count": 16,
   "metadata": {},
   "outputs": [],
   "source": [
    "\n",
    "class Node :\n",
    "\n",
    "  def __init__(self, data, next=None):\n",
    "    self.data = data\n",
    "    self.next = next\n",
    "\n",
    "  def getData(self):\n",
    "    return self.data\n",
    "\n",
    "  def setData(self, data):\n",
    "    self.data = data\n",
    "\n",
    "  def setNext(self, next):\n",
    "    self.next = next\n",
    "\n",
    "  def getNext(self):\n",
    "    return self.next\n",
    "\n",
    "class QueueLL:\n",
    "    def __init__(self):\n",
    "        self.head = None\n",
    "        self.tail = None\n",
    "        self.size = 0\n",
    "    def isEmpty(self):\n",
    "        return self.head == None #or self.tail == None\n",
    "    def enQueue(self, data):\n",
    "        node = Node(data)\n",
    "        if self.isEmpty():\n",
    "            self.head = node\n",
    "            self.tail = node\n",
    "        else:\n",
    "            self.tail.next = node\n",
    "            self.tail = self.tail.next\n",
    "        self.size += 1\n",
    "    def deQueue(self):\n",
    "        if self.isEmpty():\n",
    "            print(\"Queue underFlow\")\n",
    "            return\n",
    "        data = self.head.data\n",
    "\n",
    "        # chk if it is the only element\n",
    "        if self.head == self.tail:\n",
    "            self.head = None\n",
    "            self.tail = None # after dequeue the queue will be empty hence reset of head and tail\n",
    "        else:\n",
    "            self.head = self.head.next\n",
    "        self.size -= 1\n",
    "        return data\n",
    "    \n",
    "    def traverse(self):\n",
    "        temp = self.head\n",
    "        while temp:\n",
    "            print(temp.data,end=\"->\")\n",
    "            temp = temp.next\n",
    "        print()"
   ]
  },
  {
   "cell_type": "code",
   "execution_count": 64,
   "metadata": {},
   "outputs": [],
   "source": [
    "# level order traversal # 1->2->3->5->6->8->7 traverse level by level\n",
    "# need to use queue\n",
    "\n",
    "def levelOrderTraversal(root):\n",
    "    if not root:\n",
    "        return\n",
    "    \n",
    "    q = QueueLL()\n",
    "    q.enQueue(root)\n",
    "\n",
    "    while not q.isEmpty():\n",
    "        # dequeue the element from the queue\n",
    "        temp = q.deQueue() # temp is the object of tree node\n",
    "        yield temp.getData()\n",
    "        #print(temp.getData(),end=\"->\")\n",
    "\n",
    "        if temp.getLeft():\n",
    "            q.enQueue(temp.getLeft())\n",
    "        if temp.getRight():\n",
    "            q.enQueue(temp.getRight())"
   ]
  },
  {
   "cell_type": "markdown",
   "metadata": {},
   "source": [
    "<img src=\"tree.png\" width=\"350\" height=\"100\">"
   ]
  },
  {
   "cell_type": "code",
   "execution_count": null,
   "metadata": {},
   "outputs": [],
   "source": [
    "elements = levelOrderTraversal(root)\n",
    "for value in elements:\n",
    "    print(value)"
   ]
  },
  {
   "cell_type": "code",
   "execution_count": 66,
   "metadata": {},
   "outputs": [],
   "source": [
    "# find the max element of the tree using level traversal approach\n",
    "\n",
    "def maxElement(root):\n",
    "    max_element = None\n",
    "    elements = levelOrderTraversal(root)\n",
    "    for value in elements:\n",
    "        if max_element==None:\n",
    "            max_element = value\n",
    "        elif max_element<value:\n",
    "            max_element = value\n",
    "    \n",
    "    print(max_element)"
   ]
  },
  {
   "cell_type": "code",
   "execution_count": 67,
   "metadata": {},
   "outputs": [
    {
     "name": "stdout",
     "output_type": "stream",
     "text": [
      "8\n"
     ]
    }
   ],
   "source": [
    "maxElement(root)"
   ]
  },
  {
   "cell_type": "code",
   "execution_count": 56,
   "metadata": {},
   "outputs": [],
   "source": [
    "# max using recursion:\n",
    "\n",
    "def maximum(a,b,c):\n",
    "    if a>=b :\n",
    "        if a>=c :\n",
    "            return a\n",
    "        else :\n",
    "            return c\n",
    "    else :\n",
    "        if b >=c :\n",
    "            return b\n",
    "        else :\n",
    "            return c\n",
    "\n",
    "def max(root):\n",
    "    if not root:\n",
    "        return float('-inf') # represents the num smaller than all other numbers\n",
    "    \n",
    "    max_left = max(root.getLeft())\n",
    "    max_right = max(root.getRight())\n",
    "    return maximum(max_left, max_right, root.getData())"
   ]
  },
  {
   "cell_type": "code",
   "execution_count": 57,
   "metadata": {},
   "outputs": [
    {
     "data": {
      "text/plain": [
       "8"
      ]
     },
     "execution_count": 57,
     "metadata": {},
     "output_type": "execute_result"
    }
   ],
   "source": [
    "max(root)"
   ]
  },
  {
   "cell_type": "code",
   "execution_count": 59,
   "metadata": {},
   "outputs": [],
   "source": [
    "# min using recursion:\n",
    "\n",
    "def minimum(a,b,c):\n",
    "    if a<=b :\n",
    "        if a<=c :\n",
    "            return a\n",
    "        else :\n",
    "            return c\n",
    "    else :\n",
    "        if b <=c :\n",
    "            return b\n",
    "        else :\n",
    "            return c\n",
    "\n",
    "def min(root):\n",
    "    if not root:\n",
    "        return float('inf') # represents the num greater than all other numbers\n",
    "    \n",
    "    min_left = min(root.getLeft())\n",
    "    min_right = min(root.getRight())\n",
    "    return minimum(min_left, min_right, root.getData())"
   ]
  },
  {
   "cell_type": "code",
   "execution_count": 60,
   "metadata": {},
   "outputs": [
    {
     "data": {
      "text/plain": [
       "1"
      ]
     },
     "execution_count": 60,
     "metadata": {},
     "output_type": "execute_result"
    }
   ],
   "source": [
    "min(root)"
   ]
  }
 ],
 "metadata": {
  "kernelspec": {
   "display_name": "Python 3",
   "language": "python",
   "name": "python3"
  },
  "language_info": {
   "codemirror_mode": {
    "name": "ipython",
    "version": 3
   },
   "file_extension": ".py",
   "mimetype": "text/x-python",
   "name": "python",
   "nbconvert_exporter": "python",
   "pygments_lexer": "ipython3",
   "version": "3.11.7"
  }
 },
 "nbformat": 4,
 "nbformat_minor": 2
}
