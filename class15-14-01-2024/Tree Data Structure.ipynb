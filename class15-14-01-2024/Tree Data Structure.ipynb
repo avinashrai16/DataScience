{
 "cells": [
  {
   "cell_type": "code",
   "execution_count": null,
   "metadata": {},
   "outputs": [],
   "source": [
    "# tree DS:\n",
    "# it is a non linear DS --> Tree and Graph\n",
    "# it represents hierarchical data\n",
    "# use cases -->  Decision trees, DB indexes , make search faster\n",
    "# Binary Tree \n",
    "    # 1. a tree with 0/1/2 child nodes (max 2) is called binary tree \n",
    "    # 2. node : data, left child, right child\n",
    "    # 3. with the help of root node we can traverse to any node , so trees are always represented by root\n",
    "    # 4. depth: distance between node and root and height: distance between node and dippiest node\n",
    "    # 5. height of the tree : height of root node\n",
    "    # 6. depth of the tree : depth of the dippiest node from root\n",
    "    # 7. height of the tree =  depth of the tree \n",
    "    # 8. level :starting from 0 , position \n",
    "    # 9. pre order traversal --> root...>Left sub tree...> right sub tree\n",
    "    # 10. in order traversal --> left sub tree --> root --> right sub tree\n",
    "    # 11. post order traversal -- >left sub tree  --> right sub tree --> root"
   ]
  },
  {
   "cell_type": "code",
   "execution_count": 2,
   "metadata": {},
   "outputs": [],
   "source": [
    "# implementation of tree\n",
    "# step1. Tree node\n",
    "\n",
    "class TreeNode:\n",
    "    def __init__(self, data):\n",
    "        self.data = data\n",
    "        self.left = None # represents left child \n",
    "        self.right = None # represents right child\n",
    "    \n",
    "    # getter and setter methods\n",
    "    def setData(self, data):\n",
    "        self.data = data\n",
    "    \n",
    "    def getDate(self):\n",
    "        return self.data\n",
    "    \n",
    "    def setLeft(self, node):\n",
    "        self.left = node\n",
    "    \n",
    "    def getLeft(self):\n",
    "        return self.left\n",
    "    \n",
    "    def setRight(self, node):\n",
    "        self.right = node\n",
    "    \n",
    "    def getRight(self):\n",
    "        return self.right"
   ]
  },
  {
   "cell_type": "markdown",
   "metadata": {},
   "source": []
  },
  {
   "cell_type": "code",
   "execution_count": 3,
   "metadata": {},
   "outputs": [],
   "source": [
    "# create a root node\n",
    "root = TreeNode(1)\n",
    "\n",
    "#left subtree\n",
    "leftST = TreeNode(2)\n",
    "leftST.setLeft(TreeNode(3))\n",
    "leftST.setRight(TreeNode(4))\n",
    "# add the LST to root\n",
    "root.setLeft(leftST)\n",
    "\n",
    "# right subtree\n",
    "rightST = TreeNode(5)\n",
    "rightST.setLeft(TreeNode(6))\n",
    "rightST.setRight(TreeNode(7))\n",
    "# add the RST to root\n",
    "root.setRight(rightST)"
   ]
  },
  {
   "cell_type": "code",
   "execution_count": null,
   "metadata": {},
   "outputs": [],
   "source": [
    "\n",
    "#left subtree\n",
    "leftST = TreeNode(2)\n",
    "leftST.setLeft(TreeNode(3))\n",
    "leftST.setRight(TreeNode(4))\n",
    "# add the LST to root\n",
    "root.setLeft(leftST)\n",
    "\n",
    "# right subtree\n",
    "rightST = TreeNode(5)\n",
    "rightST.setLeft(TreeNode(6))\n",
    "rightST.setRight(TreeNode(7))\n",
    "# add the RST to root\n",
    "root.setRight(rightST)"
   ]
  },
  {
   "cell_type": "code",
   "execution_count": null,
   "metadata": {},
   "outputs": [],
   "source": [
    "# Pre order traversal\n"
   ]
  }
 ],
 "metadata": {
  "kernelspec": {
   "display_name": "Python 3",
   "language": "python",
   "name": "python3"
  },
  "language_info": {
   "codemirror_mode": {
    "name": "ipython",
    "version": 3
   },
   "file_extension": ".py",
   "mimetype": "text/x-python",
   "name": "python",
   "nbconvert_exporter": "python",
   "pygments_lexer": "ipython3",
   "version": "3.11.7"
  }
 },
 "nbformat": 4,
 "nbformat_minor": 2
}
