{
 "cells": [
  {
   "cell_type": "code",
   "execution_count": null,
   "metadata": {},
   "outputs": [],
   "source": [
    "## Example1\n",
    "## time complexity: O(n)\n",
    "## Space complexity: O(1) ## as there is only one array defined \n",
    "\n",
    "def summation_of_array(arr):\n",
    "    sum = 0 \n",
    "    for x in arr:\n",
    "        sum = sum+x\n",
    "    return sum\n",
    "\n",
    "arr = [23,24,44,45]\n",
    "arr.insert(1,33)\n",
    "print(arr)\n",
    "result = summation_of_array(arr)\n",
    "print(result)"
   ]
  },
  {
   "cell_type": "code",
   "execution_count": null,
   "metadata": {},
   "outputs": [],
   "source": [
    "## Example2\n",
    "## time complexity: O(n) # as there is only one loop\n",
    "## Space complexity: O(1) ## as there is only one array defined \n",
    "def search_array_linear(arr,target):\n",
    "    index =-1 ##  in case if traget is not present in array list\n",
    "    for x in range(len(arr)):\n",
    "       if(target == arr[x]):\n",
    "            index = x\n",
    "            break\n",
    "    return index\n",
    "\n",
    "\n",
    "arr = [12,14,18,11,22,26,29]\n",
    "target = 110\n",
    "index_val = search_array_linear(arr,target)\n",
    "print(index_val)\n"
   ]
  },
  {
   "cell_type": "code",
   "execution_count": null,
   "metadata": {},
   "outputs": [],
   "source": [
    "## Example3\n",
    "## time complexity: O(n) # there is 2 loops below O(n)+O(n) so it will be O(n)\n",
    "## Space complexity: O(n) ## as there is external data structure array is created\n",
    "\n",
    "def even_odd_array(arr):\n",
    "    even_arr = [even for even in arr if even%2==0] \n",
    "    odd_arr =  [odd for odd in arr if odd%2!=0] \n",
    "    return even_arr,odd_arr\n",
    "\n",
    "## driver code\n",
    "## even amd odd array itmes\n",
    "arr = [1,2,3,4,5,6,7,8,9,12,13,14]\n",
    "print(even_odd_array(arr))"
   ]
  },
  {
   "cell_type": "code",
   "execution_count": 12,
   "metadata": {},
   "outputs": [
    {
     "name": "stdout",
     "output_type": "stream",
     "text": [
      "32 31\n"
     ]
    }
   ],
   "source": [
    "## Example4 \n",
    "## time complexity: O(n2) # there is nested for loops below O(n)*O(n) so it will be O(n2)\n",
    "## Space complexity: O(1) ## as there is no external data structure array is created\n",
    "\n",
    "def print_digonal_sum(arr):\n",
    "    n = len(arr)\n",
    "    primaryDiagonalSum = 0\n",
    "    secondaryDiagonalSum = 0\n",
    "    for i in range(n):\n",
    "        for j in range(n):\n",
    "            ## condtion to get the elements of primary diagonal\n",
    "            if(i==j):\n",
    "                primaryDiagonalSum += arr[i][j]\n",
    "            ## condtion to get the elements of secondary diagonal\n",
    "            if((i+j)==(n-1)):\n",
    "                secondaryDiagonalSum += arr[i][j]\n",
    "    \n",
    "    print (primaryDiagonalSum,secondaryDiagonalSum)\n",
    "\n",
    "\n",
    "## driver code\n",
    "arr2D = [[2,4,6],[8,11,13],[14,17,19]]\n",
    "n=3\n",
    "print_digonal_sum(arr2D)"
   ]
  },
  {
   "cell_type": "code",
   "execution_count": null,
   "metadata": {},
   "outputs": [],
   "source": []
  }
 ],
 "metadata": {
  "kernelspec": {
   "display_name": "Python 3",
   "language": "python",
   "name": "python3"
  },
  "language_info": {
   "codemirror_mode": {
    "name": "ipython",
    "version": 3
   },
   "file_extension": ".py",
   "mimetype": "text/x-python",
   "name": "python",
   "nbconvert_exporter": "python",
   "pygments_lexer": "ipython3",
   "version": "3.11.6"
  }
 },
 "nbformat": 4,
 "nbformat_minor": 2
}
