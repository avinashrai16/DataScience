{
 "cells": [
  {
   "cell_type": "code",
   "execution_count": null,
   "metadata": {},
   "outputs": [],
   "source": [
    "# print array with recursion\n",
    "# recursion is bi directional so we can put logic and recursive call in each other place\n",
    "# for example : below we are putting logic at the start before recursive call elelment we r printing the elements at index 0 to last\n",
    "# but we call the logic after recursive call , elements will be printed from last index to 0th index\n",
    "\n",
    "def print_arr(arr , index=0):\n",
    "\n",
    "    # # base condition:\n",
    "    # if index >= len(arr):\n",
    "    #     return\n",
    "    \n",
    "    # #recursive call\n",
    "    # print_arr(arr , index+1)\n",
    "\n",
    "    # #logic\n",
    "    # print(arr[index])\n",
    "\n",
    "    # base condition:\n",
    "    if index >= len(arr):\n",
    "        return\n",
    "    \n",
    "    #logic\n",
    "    print(arr[index])\n",
    "    \n",
    "    #recursive call\n",
    "    print_arr(arr , index+1)\n",
    "\n",
    "arr = [1,2,3,4,5]\n",
    "print_arr(arr=arr,index=0)"
   ]
  },
  {
   "cell_type": "code",
   "execution_count": null,
   "metadata": {},
   "outputs": [],
   "source": [
    "# find the smallest element in arr without any inbuilt function\n",
    "arr = [-2,12,17,3,5,2,11,4,-1,-11]\n",
    "def small_element(arr, startIndex, start_element):\n",
    "    if startIndex >= len(arr):\n",
    "        # print(\"base condtion\", element, startIndex)\n",
    "        return start_element\n",
    "    \n",
    "    if start_element > arr[startIndex]:\n",
    "        start_element = arr[startIndex]\n",
    "    \n",
    "    return small_element(arr,startIndex+1,start_element)\n",
    "\n",
    "result = small_element(arr,1,arr[0])\n",
    "print(f\"smallest element in the list {arr} is {result}\")\n",
    "    \n"
   ]
  },
  {
   "cell_type": "code",
   "execution_count": null,
   "metadata": {},
   "outputs": [],
   "source": [
    "# find the smallest element in arr with inbuilt function\n",
    "def find_min(arr, sI):\n",
    "  #Base condition\n",
    "  if sI >=len(arr):\n",
    "    return arr[sI-1]\n",
    "\n",
    "  return min(arr[sI], find_min(arr,sI+1))\n",
    "\n",
    "\n",
    "print(find_min([3,2,5,-1],0))"
   ]
  },
  {
   "cell_type": "code",
   "execution_count": 30,
   "metadata": {},
   "outputs": [
    {
     "data": {
      "text/plain": [
       "3"
      ]
     },
     "execution_count": 30,
     "metadata": {},
     "output_type": "execute_result"
    }
   ],
   "source": [
    "# tower of Hanoi\n",
    "\n",
    "def moves(num_of_discs, source, destination, aux):\n",
    "    # Base Condtion\n",
    "    if num_of_discs == 1:\n",
    "        return 1\n",
    "    \n",
    "    # move n-1 s -- > a, the move 1 biggest coin s-> d and then n-1 a->d\n",
    "    return moves(num_of_discs-1, source, destination, aux) +1+ moves(num_of_discs-1, aux, destination, source)\n",
    "moves(2,\"A\",\"B\",\"C\")"
   ]
  },
  {
   "cell_type": "code",
   "execution_count": null,
   "metadata": {},
   "outputs": [],
   "source": []
  }
 ],
 "metadata": {
  "kernelspec": {
   "display_name": "Python 3",
   "language": "python",
   "name": "python3"
  },
  "language_info": {
   "codemirror_mode": {
    "name": "ipython",
    "version": 3
   },
   "file_extension": ".py",
   "mimetype": "text/x-python",
   "name": "python",
   "nbconvert_exporter": "python",
   "pygments_lexer": "ipython3",
   "version": "3.11.6"
  }
 },
 "nbformat": 4,
 "nbformat_minor": 2
}
