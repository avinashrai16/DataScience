{
 "cells": [
  {
   "cell_type": "markdown",
   "metadata": {},
   "source": [
    "https://colab.research.google.com/drive/1IKG_wJRsVGc16mCW-fBlIwIWDK2UgSAb?usp=sharing\n",
    "\n",
    "Problem 1 : Find the Rotation Count in Rotated Sorted array Input: arr[] = {15, 18, 2, 3, 6, 12} Output: 2 Explanation: Initial array must be {2, 3, 6, 12, 15, 18}. We get the given array after rotating the initial array twice."
   ]
  },
  {
   "cell_type": "code",
   "execution_count": null,
   "metadata": {},
   "outputs": [],
   "source": [
    "# to know the number of rotation check the postion/index of the smallest element, as the given array was sorted one initially \n",
    "# time compexity for below would be O(n)\n",
    "arr = [15, 18, 2, 3, 6, 12] \n",
    "\n",
    "def count_rotation(arr):\n",
    "    min = arr[0]\n",
    "    min_index = 0\n",
    "    for i in range(len(arr)):\n",
    "        if min > arr[i]:\n",
    "            min = arr [i]\n",
    "            min_index = i\n",
    "    return min_index\n",
    "\n",
    "print(f\"number of roration done on the given array is: {count_rotation(arr)}\")"
   ]
  },
  {
   "cell_type": "code",
   "execution_count": null,
   "metadata": {},
   "outputs": [],
   "source": [
    "# approach 2 for above problem\n",
    "# the smallest element will be smaller than the right element and left element apart from this all other will not have the same property:\n",
    "# ex: [15, 18, 2, 3, 6, 12]\n",
    "# in the above example array 2 is smaller than 18 (left element) and 3 (right element)\n",
    "# with this logic loop does not have to go over all the elements and it is more efficient\n",
    "\n",
    "arr = [15, 18, 2, 3, 6, 12] \n",
    "\n",
    "def count_rotation(arr):\n",
    "    min = arr[0]\n",
    "    min_index = 0\n",
    "    for i in range(1,len(arr)-1):\n",
    "        #print(min,arr[i],arr[i+1])\n",
    "        if min > arr[i] and arr[i] < arr[i+1]:\n",
    "            min = arr[i]\n",
    "            min_index = i\n",
    "            return min_index\n",
    "    if arr[0] > arr[len(arr)-1]:\n",
    "        min_index = len(arr)-1\n",
    "    return min_index\n",
    "print(f\"number of roration done on the given array is: {count_rotation(arr)}\")"
   ]
  },
  {
   "cell_type": "markdown",
   "metadata": {},
   "source": [
    "Problem 2 : Given an array of integers, print the array in such a way that the first element is first maximum and second element is first minimum and so on. Examples : Input : arr[] = {7, 1, 2, 3, 4, 5, 6} Output : 7 1 6 2 5 3 4"
   ]
  },
  {
   "cell_type": "code",
   "execution_count": null,
   "metadata": {},
   "outputs": [],
   "source": [
    "def selection_sort(arr):\n",
    "    n = len(arr)\n",
    "    for i in range(n):\n",
    "        min_index = i\n",
    "        for j in range(i + 1, n):\n",
    "            if arr[j] < arr[min_index]:\n",
    "                min_index = j\n",
    "        arr[i], arr[min_index] = arr[min_index], arr[i]\n",
    "\n",
    "def alternate_sort(arr):\n",
    "    # Step 1: Sort the array in ascending order\n",
    "    selection_sort(arr)\n",
    "\n",
    "    # Step 2: Initialize pointers\n",
    "    start, end = 0, len(arr) - 1\n",
    "\n",
    "    # Step 3: Iterate through the array and print alternately\n",
    "    while start < end:\n",
    "        print(arr[end], arr[start], end=\" \")\n",
    "        start += 1\n",
    "        end -= 1\n",
    "\n",
    "    # If the array has odd length, print the middle element\n",
    "    if start == end:\n",
    "        print(arr[start])\n",
    "\n",
    "# Example usage\n",
    "arr = [7, 1, 2, 3, 4, 5, 6]\n",
    "alternate_sort(arr)\n"
   ]
  },
  {
   "cell_type": "markdown",
   "metadata": {},
   "source": [
    "Problem 3 : Sort an array in wave form Given an unsorted array of integers, sort the array into a wave like array. An array ‘arr[0..n-1]’ is sorted in wave form if arr[0] >= arr[1] <= arr[2] >= arr[3] <= arr[4] >= ….. Examples: Input: arr[] = {10, 5, 6, 3, 2, 20, 100, 80} Output: arr[] = {10, 5, 6, 2, 20, 3, 100, 80} OR {20, 5, 10, 2, 80, 6, 100, 3} OR any other array that is in wave form"
   ]
  },
  {
   "cell_type": "markdown",
   "metadata": {},
   "source": []
  }
 ],
 "metadata": {
  "kernelspec": {
   "display_name": "Python 3",
   "language": "python",
   "name": "python3"
  },
  "language_info": {
   "codemirror_mode": {
    "name": "ipython",
    "version": 3
   },
   "file_extension": ".py",
   "mimetype": "text/x-python",
   "name": "python",
   "nbconvert_exporter": "python",
   "pygments_lexer": "ipython3",
   "version": "3.11.7"
  }
 },
 "nbformat": 4,
 "nbformat_minor": 2
}
