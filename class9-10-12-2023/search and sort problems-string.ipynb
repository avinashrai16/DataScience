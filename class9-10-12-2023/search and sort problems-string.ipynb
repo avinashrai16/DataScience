{
 "cells": [
  {
   "cell_type": "markdown",
   "metadata": {},
   "source": [
    "https://colab.research.google.com/drive/16kk3B2nOe5sNs9j81gaeDtrq-iHRLB9b?usp=sharing\n",
    "\n",
    "\n",
    "str = \"Python\"\n",
    "#String is basically a collection of words\n",
    "\n",
    "#Python doesn't support character -> 'a' is considered as string of length 1"
   ]
  },
  {
   "cell_type": "code",
   "execution_count": null,
   "metadata": {},
   "outputs": [],
   "source": [
    "str = \"Python\"\n",
    "print(str[0])\n",
    "print(str[-1])\n",
    "#print(str[10])\n",
    "print(str[2:4])\n",
    "print(str[-1:1:-1])"
   ]
  },
  {
   "cell_type": "code",
   "execution_count": null,
   "metadata": {},
   "outputs": [],
   "source": [
    "#Something which is not same as an array\n",
    "str= \"Python\"\n",
    "str[0] = \"R\" #This is not allowed"
   ]
  },
  {
   "cell_type": "code",
   "execution_count": null,
   "metadata": {},
   "outputs": [],
   "source": [
    "#Iterate through the string the same way\n",
    "for c in str :\n",
    "  print(c)"
   ]
  },
  {
   "cell_type": "code",
   "execution_count": null,
   "metadata": {},
   "outputs": [],
   "source": [
    "#Convert the string to the character array\n",
    "str = \"Hello Students\"\n",
    "str_arr = [char for char in str]\n",
    "print(str_arr)\n",
    "str_list = list(str)\n",
    "print(str_arr)"
   ]
  },
  {
   "cell_type": "code",
   "execution_count": null,
   "metadata": {},
   "outputs": [],
   "source": [
    "#Converting the list to string\n",
    "chr_list = ['H','E','L','L','O']\n",
    "print(chr_list)\n",
    "str = \"\".join(chr_list)\n",
    "print(str)"
   ]
  }
 ],
 "metadata": {
  "kernelspec": {
   "display_name": "Python 3",
   "language": "python",
   "name": "python3"
  },
  "language_info": {
   "codemirror_mode": {
    "name": "ipython",
    "version": 3
   },
   "file_extension": ".py",
   "mimetype": "text/x-python",
   "name": "python",
   "nbconvert_exporter": "python",
   "pygments_lexer": "ipython3",
   "version": "3.11.7"
  }
 },
 "nbformat": 4,
 "nbformat_minor": 2
}
